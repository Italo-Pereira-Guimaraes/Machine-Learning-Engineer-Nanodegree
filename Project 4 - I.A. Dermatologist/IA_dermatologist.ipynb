{
 "cells": [
  {
   "cell_type": "markdown",
   "metadata": {},
   "source": [
    "# PROJETO I.A. DERMATOLOGISTA\n",
    "\n",
    "O objetivo desse projeto final de conclusão do Nanodegree Engenheiro de Machine Learning, é desenvolver uma CNN (rede neural convolucional) para detectar doenças de pele, a rede consegue distinguir a forma mais mortal de câncer de pele o Melanoma, de outras duas doenças de pele benignas, Nevus e Seborrheic Keratosis. "
   ]
  },
  {
   "cell_type": "markdown",
   "metadata": {},
   "source": [
    "### Funções para Realizar o Pré-processamento dos Dados"
   ]
  },
  {
   "cell_type": "markdown",
   "metadata": {},
   "source": [
    "A função load_dataset recebe como argumento o caminho relativo dos dados de treinamento, teste e validação, e retorna os mesmos dados na forma de arrays numpy, além das suas respectivas classes alvo, convertidos em codificação one-hot."
   ]
  },
  {
   "cell_type": "code",
   "execution_count": 1,
   "metadata": {},
   "outputs": [
    {
     "name": "stderr",
     "output_type": "stream",
     "text": [
      "Using TensorFlow backend.\n"
     ]
    }
   ],
   "source": [
    "from sklearn.datasets import load_files       \n",
    "from keras.utils import np_utils\n",
    "import numpy as np\n",
    "import pandas as pd\n",
    "from glob import glob\n",
    "import cv2                \n",
    "import matplotlib.pyplot as plt  \n",
    "import sys,os\n",
    "import tensorflow as tf\n",
    "\n",
    "%matplotlib inline \n",
    "\n",
    "\n",
    "# define function to load train, test, and validation datasets\n",
    "def load_dataset(path):\n",
    "    data = load_files(path)\n",
    "    files = np.array(data['filenames'])\n",
    "    targets = np_utils.to_categorical(np.array(data['target']), 3)\n",
    "    return files, targets"
   ]
  },
  {
   "cell_type": "markdown",
   "metadata": {},
   "source": [
    "A função paths_to_tensor recebe como argumento os dados retornados pela função load_dataset, e os converte em uma lista de tensores, que são retornados pela função, usando a função auxiliar path_to_tensor."
   ]
  },
  {
   "cell_type": "code",
   "execution_count": 2,
   "metadata": {},
   "outputs": [],
   "source": [
    "from keras.preprocessing import image                  \n",
    "from tqdm import tqdm\n",
    "from keras.applications.nasnet import preprocess_input\n",
    "\n",
    "def path_to_tensor(img_path):\n",
    "    # loads RGB image as PIL.Image.Image type\n",
    "    # Resizes the images to the format (331,331), which is the default imageet image format\n",
    "    img = image.load_img(img_path, target_size=(331,331))\n",
    "    # convert PIL.Image.Image type to 3D tensor with shape (331,331,3)\n",
    "    x = image.img_to_array(img)\n",
    "    # convert 3D tensor to 4D tensor with shape (1,450,450,3) and return 4D tensor\n",
    "    return np.expand_dims(x, axis=0)\n",
    "\n",
    "def paths_to_tensor(img_paths):\n",
    "    list_of_tensors = [path_to_tensor(img_path) for img_path in tqdm(img_paths)]\n",
    "    return np.vstack(list_of_tensors)"
   ]
  },
  {
   "cell_type": "markdown",
   "metadata": {},
   "source": [
    "### Carrega os Dados\n",
    "\n",
    "Os dados de treinamento, teste e validação são carregados usando a função load_dataset, e são exibidas estatistícas referentes ao dataset."
   ]
  },
  {
   "cell_type": "code",
   "execution_count": 4,
   "metadata": {},
   "outputs": [
    {
     "name": "stdout",
     "output_type": "stream",
     "text": [
      "Existem 3 categorias de doenças: \n",
      "MELANOMA , NEVUS e SEBORRHEIC KERATOSIS\n",
      "Existem no total de 2419 imagens.\n",
      "\n",
      "Existem 1693 imagens de treinamento.\n",
      "Existem 484 imagens de teste.\n",
      "Existem 242 imagens de validação.\n"
     ]
    }
   ],
   "source": [
    "# load train, test, and validation datasets\n",
    "\n",
    "train_files, train_targets = load_dataset('data/train')\n",
    "valid_files, valid_targets = load_dataset('data/valid')\n",
    "test_files, test_targets = load_dataset('data/test')\n",
    "\n",
    "# load list of disease names\n",
    "disease_names = [item[11:-1] for item in sorted(glob(\"data/train/*/\"))]\n",
    "\n",
    "# print statistics about the dataset\n",
    "for i in range(len(disease_names)):\n",
    "    disease_names[i]=disease_names[i].replace(\"_\",\" \")\n",
    "    disease_names[i]=disease_names[i].upper()\n",
    "print('Existem %d categorias de doenças: '% len(disease_names))\n",
    "print(disease_names[0],',',disease_names[1],'e',disease_names[2])\n",
    "print('Existem no total de %s imagens.\\n' % len(np.hstack([train_files, valid_files, test_files])))\n",
    "print('Existem %d imagens de treinamento.' % len(train_files))\n",
    "print('Existem %d imagens de teste.'% len(test_files))\n",
    "print('Existem %d imagens de validação.' % len(valid_files))"
   ]
  },
  {
   "cell_type": "markdown",
   "metadata": {},
   "source": [
    "### Realiza o Pré-processamento dos Dados\n",
    "\n",
    "Realiza o pré-processamento dos dados usando a função paths_to_tensor, para converter os dados de treinamento, teste e validação em tensores, além de dividir todos os valores armazenados nos tensores por 255, para normalizar os dados para alimentar a rede neural.\n"
   ]
  },
  {
   "cell_type": "code",
   "execution_count": 5,
   "metadata": {},
   "outputs": [
    {
     "name": "stderr",
     "output_type": "stream",
     "text": [
      "100%|██████████████████████████████████████████████████████████████████████████████| 1693/1693 [03:40<00:00,  7.66it/s]\n",
      "100%|████████████████████████████████████████████████████████████████████████████████| 242/242 [00:28<00:00,  8.45it/s]\n",
      "100%|████████████████████████████████████████████████████████████████████████████████| 484/484 [01:30<00:00,  5.37it/s]\n"
     ]
    }
   ],
   "source": [
    "from PIL import ImageFile                            \n",
    "ImageFile.LOAD_TRUNCATED_IMAGES = True                 \n",
    "\n",
    "# pre-process the data for Keras\n",
    "train_tensors = paths_to_tensor(train_files).astype('float32')/255\n",
    "valid_tensors = paths_to_tensor(valid_files).astype('float32')/255\n",
    "test_tensors = paths_to_tensor(test_files).astype('float32')/255"
   ]
  },
  {
   "cell_type": "markdown",
   "metadata": {},
   "source": [
    "### Salva os Dados\n",
    "\n",
    "Salva os dados pré-processados, para que não seja necessário realizar todo o pré-processamento, toda vez que o projeto for executado."
   ]
  },
  {
   "cell_type": "code",
   "execution_count": 25,
   "metadata": {},
   "outputs": [],
   "source": [
    "np.savez_compressed('tensors/tensors', train=train_tensors, test=test_tensors, valid=valid_tensors)\n",
    "np.savez_compressed('tensors/targets', train=train_targets, test=test_targets, valid=valid_targets)"
   ]
  },
  {
   "cell_type": "markdown",
   "metadata": {},
   "source": [
    "## Transferência de Aprendizado\n",
    "\n",
    "Abaixo seguem todas as etapas necessárias para realizar a técnica da Transferência de Aprendizado."
   ]
  },
  {
   "cell_type": "markdown",
   "metadata": {},
   "source": [
    "### Carrega os Dados Salvos"
   ]
  },
  {
   "cell_type": "markdown",
   "metadata": {},
   "source": [
    "Carrega os dados de treinamento, validação e teste, salvos na forma de tensores."
   ]
  },
  {
   "cell_type": "code",
   "execution_count": 6,
   "metadata": {},
   "outputs": [],
   "source": [
    "#COMEÇAR A PARTIR DAQUI!!!\n",
    "tensors = np.load('tensors/tensors.npz')\n",
    "train_tensors = tensors['train']\n",
    "valid_tensors = tensors['valid']\n",
    "test_tensors = tensors['test']"
   ]
  },
  {
   "cell_type": "markdown",
   "metadata": {},
   "source": [
    "Carrega os rótulos de todos dados."
   ]
  },
  {
   "cell_type": "code",
   "execution_count": 7,
   "metadata": {},
   "outputs": [],
   "source": [
    "targets = np.load('tensors/targets.npz')\n",
    "train_targets = targets['train']\n",
    "valid_targets = targets['valid']\n",
    "test_targets = targets['test']"
   ]
  },
  {
   "cell_type": "markdown",
   "metadata": {},
   "source": [
    "Carrega os recursos de gargalo que serão usados para realizar a transferência de aprendizado."
   ]
  },
  {
   "cell_type": "code",
   "execution_count": 8,
   "metadata": {},
   "outputs": [],
   "source": [
    "bottleneck_features = np.load('bottleneck_features/NASNetLarge.npz')\n",
    "train_NASNet = bottleneck_features['train']\n",
    "valid_NASNet = bottleneck_features['valid']\n",
    "test_NASNet = bottleneck_features['test']"
   ]
  },
  {
   "cell_type": "markdown",
   "metadata": {},
   "source": [
    "### Cria o Modelo Topo\n",
    "\n",
    "Define a arquitetura da rede neural, que posteriormente será usada como a camada densa final, na etapa de ajuste fino."
   ]
  },
  {
   "cell_type": "code",
   "execution_count": 9,
   "metadata": {},
   "outputs": [
    {
     "name": "stdout",
     "output_type": "stream",
     "text": [
      "_________________________________________________________________\n",
      "Layer (type)                 Output Shape              Param #   \n",
      "=================================================================\n",
      "global_average_pooling2d_1 ( (None, 4032)              0         \n",
      "_________________________________________________________________\n",
      "dense_1 (Dense)              (None, 8064)              32522112  \n",
      "_________________________________________________________________\n",
      "activation_1 (Activation)    (None, 8064)              0         \n",
      "_________________________________________________________________\n",
      "batch_normalization_1 (Batch (None, 8064)              32256     \n",
      "_________________________________________________________________\n",
      "dropout_1 (Dropout)          (None, 8064)              0         \n",
      "_________________________________________________________________\n",
      "dense_2 (Dense)              (None, 3)                 24195     \n",
      "=================================================================\n",
      "Total params: 32,578,563\n",
      "Trainable params: 32,562,435\n",
      "Non-trainable params: 16,128\n",
      "_________________________________________________________________\n"
     ]
    }
   ],
   "source": [
    "n_classes=len(disease_names) # número de classes\n",
    "p_dropout = 0.50 # probabilidade de dropout\n",
    "n_hidden = 8064 # número de neurônios na camada primeira oculta\n",
    "\n",
    "NASNet_top = tf.keras.models.Sequential()\n",
    "NASNet_top.add(tf.keras.layers.GlobalAveragePooling2D(input_shape=train_NASNet.shape[1:]))\n",
    "NASNet_top.add(tf.keras.layers.Dense(n_hidden))\n",
    "NASNet_top.add(tf.keras.layers.Activation('relu'))\n",
    "NASNet_top.add(tf.keras.layers.BatchNormalization())\n",
    "NASNet_top.add(tf.keras.layers.Dropout(p_dropout))\n",
    "NASNet_top.add(tf.keras.layers.Dense(n_classes, activation='sigmoid'))\n",
    "NASNet_top.summary()"
   ]
  },
  {
   "cell_type": "markdown",
   "metadata": {},
   "source": [
    "### Define a Função de Perda"
   ]
  },
  {
   "cell_type": "code",
   "execution_count": 15,
   "metadata": {},
   "outputs": [],
   "source": [
    "from keras import backend as K\n",
    "\n",
    "def dice_coef(y_true, y_pred, smooth=1):\n",
    "    y_true_f = K.flatten(y_true)\n",
    "    y_pred_f = K.flatten(y_pred)\n",
    "    intersection = K.sum(y_true_f * y_pred_f)\n",
    "    return (2. * intersection + smooth) / (K.sum(y_true_f) + K.sum(y_pred_f) + smooth)"
   ]
  },
  {
   "cell_type": "code",
   "execution_count": 16,
   "metadata": {},
   "outputs": [],
   "source": [
    "def dice_coef_loss(y_true, y_pred):\n",
    "    return -dice_coef(y_true, y_pred)"
   ]
  },
  {
   "cell_type": "markdown",
   "metadata": {},
   "source": [
    "### Compila o Modelo "
   ]
  },
  {
   "cell_type": "code",
   "execution_count": 24,
   "metadata": {},
   "outputs": [],
   "source": [
    "decay=1e-6\n",
    "\n",
    "opt = tf.keras.optimizers.Adam(lr=0.001, beta_1=0.9, beta_2=0.999, epsilon=None, decay=decay, amsgrad=False, clipvalue=0.5)\n",
    "\n",
    "NASNet_top.compile(loss=dice_coef_loss, optimizer=opt, metrics=[dice_coef])"
   ]
  },
  {
   "cell_type": "markdown",
   "metadata": {},
   "source": [
    "### Treina o Modelo"
   ]
  },
  {
   "cell_type": "code",
   "execution_count": 27,
   "metadata": {},
   "outputs": [
    {
     "name": "stdout",
     "output_type": "stream",
     "text": [
      "Train on 1693 samples, validate on 242 samples\n",
      "Epoch 1/10\n",
      "1693/1693 [==============================] - ETA: 1:20 - loss: -0.7124 - dice_coef: 0.71 - ETA: 1:00 - loss: -0.8069 - dice_coef: 0.80 - ETA: 52s - loss: -0.8422 - dice_coef: 0.8422 - ETA: 47s - loss: -0.8566 - dice_coef: 0.856 - ETA: 45s - loss: -0.8292 - dice_coef: 0.829 - ETA: 42s - loss: -0.8195 - dice_coef: 0.819 - ETA: 41s - loss: -0.8020 - dice_coef: 0.802 - ETA: 39s - loss: -0.8124 - dice_coef: 0.812 - ETA: 38s - loss: -0.8076 - dice_coef: 0.807 - ETA: 36s - loss: -0.8133 - dice_coef: 0.813 - ETA: 35s - loss: -0.8107 - dice_coef: 0.810 - ETA: 34s - loss: -0.8049 - dice_coef: 0.804 - ETA: 33s - loss: -0.8130 - dice_coef: 0.813 - ETA: 32s - loss: -0.8132 - dice_coef: 0.813 - ETA: 31s - loss: -0.8178 - dice_coef: 0.817 - ETA: 31s - loss: -0.8229 - dice_coef: 0.822 - ETA: 30s - loss: -0.8197 - dice_coef: 0.819 - ETA: 29s - loss: -0.8121 - dice_coef: 0.812 - ETA: 28s - loss: -0.8165 - dice_coef: 0.816 - ETA: 27s - loss: -0.8172 - dice_coef: 0.817 - ETA: 26s - loss: -0.8215 - dice_coef: 0.821 - ETA: 25s - loss: -0.8218 - dice_coef: 0.821 - ETA: 24s - loss: -0.8218 - dice_coef: 0.821 - ETA: 23s - loss: -0.8228 - dice_coef: 0.822 - ETA: 23s - loss: -0.8228 - dice_coef: 0.822 - ETA: 22s - loss: -0.8181 - dice_coef: 0.818 - ETA: 21s - loss: -0.8143 - dice_coef: 0.814 - ETA: 20s - loss: -0.8137 - dice_coef: 0.813 - ETA: 19s - loss: -0.8121 - dice_coef: 0.812 - ETA: 18s - loss: -0.8126 - dice_coef: 0.812 - ETA: 17s - loss: -0.8126 - dice_coef: 0.812 - ETA: 17s - loss: -0.8156 - dice_coef: 0.815 - ETA: 16s - loss: -0.8177 - dice_coef: 0.817 - ETA: 15s - loss: -0.8191 - dice_coef: 0.819 - ETA: 14s - loss: -0.8208 - dice_coef: 0.820 - ETA: 13s - loss: -0.8217 - dice_coef: 0.821 - ETA: 12s - loss: -0.8227 - dice_coef: 0.822 - ETA: 12s - loss: -0.8224 - dice_coef: 0.822 - ETA: 11s - loss: -0.8222 - dice_coef: 0.822 - ETA: 10s - loss: -0.8231 - dice_coef: 0.823 - ETA: 9s - loss: -0.8228 - dice_coef: 0.822 - ETA: 8s - loss: -0.8226 - dice_coef: 0.82 - ETA: 8s - loss: -0.8253 - dice_coef: 0.82 - ETA: 7s - loss: -0.8240 - dice_coef: 0.82 - ETA: 6s - loss: -0.8255 - dice_coef: 0.82 - ETA: 5s - loss: -0.8252 - dice_coef: 0.82 - ETA: 4s - loss: -0.8278 - dice_coef: 0.82 - ETA: 3s - loss: -0.8282 - dice_coef: 0.82 - ETA: 3s - loss: -0.8289 - dice_coef: 0.82 - ETA: 2s - loss: -0.8296 - dice_coef: 0.82 - ETA: 1s - loss: -0.8302 - dice_coef: 0.83 - ETA: 0s - loss: -0.8291 - dice_coef: 0.82 - 44s 26ms/step - loss: -0.8306 - dice_coef: 0.8306 - val_loss: -0.7859 - val_dice_coef: 0.7859\n",
      "\n",
      "Epoch 00001: val_loss improved from inf to -0.78595, saving model to saved_models/weights.best.NASNet_TOP.hdf5\n",
      "Epoch 2/10\n",
      "1693/1693 [==============================] - ETA: 41s - loss: -0.7981 - dice_coef: 0.798 - ETA: 40s - loss: -0.8449 - dice_coef: 0.844 - ETA: 39s - loss: -0.8245 - dice_coef: 0.824 - ETA: 38s - loss: -0.8148 - dice_coef: 0.814 - ETA: 37s - loss: -0.8026 - dice_coef: 0.802 - ETA: 36s - loss: -0.8003 - dice_coef: 0.800 - ETA: 35s - loss: -0.8175 - dice_coef: 0.817 - ETA: 34s - loss: -0.8186 - dice_coef: 0.818 - ETA: 34s - loss: -0.8210 - dice_coef: 0.821 - ETA: 33s - loss: -0.8249 - dice_coef: 0.824 - ETA: 32s - loss: -0.8266 - dice_coef: 0.826 - ETA: 31s - loss: -0.8248 - dice_coef: 0.824 - ETA: 30s - loss: -0.8230 - dice_coef: 0.823 - ETA: 30s - loss: -0.8204 - dice_coef: 0.820 - ETA: 29s - loss: -0.8224 - dice_coef: 0.822 - ETA: 28s - loss: -0.8191 - dice_coef: 0.819 - ETA: 27s - loss: -0.8203 - dice_coef: 0.820 - ETA: 27s - loss: -0.8237 - dice_coef: 0.823 - ETA: 26s - loss: -0.8204 - dice_coef: 0.820 - ETA: 25s - loss: -0.8226 - dice_coef: 0.822 - ETA: 24s - loss: -0.8233 - dice_coef: 0.823 - ETA: 23s - loss: -0.8267 - dice_coef: 0.826 - ETA: 23s - loss: -0.8283 - dice_coef: 0.828 - ETA: 22s - loss: -0.8265 - dice_coef: 0.826 - ETA: 21s - loss: -0.8279 - dice_coef: 0.827 - ETA: 20s - loss: -0.8296 - dice_coef: 0.829 - ETA: 20s - loss: -0.8326 - dice_coef: 0.832 - ETA: 19s - loss: -0.8353 - dice_coef: 0.835 - ETA: 18s - loss: -0.8350 - dice_coef: 0.835 - ETA: 17s - loss: -0.8334 - dice_coef: 0.833 - ETA: 17s - loss: -0.8311 - dice_coef: 0.831 - ETA: 16s - loss: -0.8311 - dice_coef: 0.831 - ETA: 15s - loss: -0.8296 - dice_coef: 0.829 - ETA: 14s - loss: -0.8306 - dice_coef: 0.830 - ETA: 14s - loss: -0.8314 - dice_coef: 0.831 - ETA: 13s - loss: -0.8324 - dice_coef: 0.832 - ETA: 12s - loss: -0.8336 - dice_coef: 0.833 - ETA: 11s - loss: -0.8356 - dice_coef: 0.835 - ETA: 10s - loss: -0.8335 - dice_coef: 0.833 - ETA: 10s - loss: -0.8332 - dice_coef: 0.833 - ETA: 9s - loss: -0.8362 - dice_coef: 0.836 - ETA: 8s - loss: -0.8363 - dice_coef: 0.83 - ETA: 7s - loss: -0.8386 - dice_coef: 0.83 - ETA: 7s - loss: -0.8398 - dice_coef: 0.83 - ETA: 6s - loss: -0.8408 - dice_coef: 0.84 - ETA: 5s - loss: -0.8406 - dice_coef: 0.84 - ETA: 4s - loss: -0.8411 - dice_coef: 0.84 - ETA: 3s - loss: -0.8425 - dice_coef: 0.84 - ETA: 3s - loss: -0.8424 - dice_coef: 0.84 - ETA: 2s - loss: -0.8416 - dice_coef: 0.84 - ETA: 1s - loss: -0.8428 - dice_coef: 0.84 - ETA: 0s - loss: -0.8421 - dice_coef: 0.84 - 43s 25ms/step - loss: -0.8405 - dice_coef: 0.8405 - val_loss: -0.7857 - val_dice_coef: 0.7857\n",
      "\n",
      "Epoch 00002: val_loss did not improve\n",
      "Epoch 3/10\n",
      "1693/1693 [==============================] - ETA: 39s - loss: -0.8716 - dice_coef: 0.871 - ETA: 39s - loss: -0.8266 - dice_coef: 0.826 - ETA: 38s - loss: -0.8565 - dice_coef: 0.856 - ETA: 37s - loss: -0.8707 - dice_coef: 0.870 - ETA: 37s - loss: -0.8601 - dice_coef: 0.860 - ETA: 36s - loss: -0.8412 - dice_coef: 0.841 - ETA: 35s - loss: -0.8420 - dice_coef: 0.842 - ETA: 34s - loss: -0.8355 - dice_coef: 0.835 - ETA: 33s - loss: -0.8436 - dice_coef: 0.843 - ETA: 33s - loss: -0.8415 - dice_coef: 0.841 - ETA: 32s - loss: -0.8419 - dice_coef: 0.841 - ETA: 31s - loss: -0.8484 - dice_coef: 0.848 - ETA: 30s - loss: -0.8442 - dice_coef: 0.844 - ETA: 30s - loss: -0.8451 - dice_coef: 0.845 - ETA: 29s - loss: -0.8385 - dice_coef: 0.838 - ETA: 28s - loss: -0.8402 - dice_coef: 0.840 - ETA: 27s - loss: -0.8365 - dice_coef: 0.836 - ETA: 26s - loss: -0.8316 - dice_coef: 0.831 - ETA: 26s - loss: -0.8260 - dice_coef: 0.826 - ETA: 25s - loss: -0.8282 - dice_coef: 0.828 - ETA: 24s - loss: -0.8320 - dice_coef: 0.832 - ETA: 23s - loss: -0.8348 - dice_coef: 0.834 - ETA: 23s - loss: -0.8363 - dice_coef: 0.836 - ETA: 22s - loss: -0.8357 - dice_coef: 0.835 - ETA: 21s - loss: -0.8382 - dice_coef: 0.838 - ETA: 20s - loss: -0.8402 - dice_coef: 0.840 - ETA: 20s - loss: -0.8402 - dice_coef: 0.840 - ETA: 19s - loss: -0.8420 - dice_coef: 0.842 - ETA: 18s - loss: -0.8381 - dice_coef: 0.838 - ETA: 17s - loss: -0.8380 - dice_coef: 0.838 - ETA: 16s - loss: -0.8386 - dice_coef: 0.838 - ETA: 16s - loss: -0.8360 - dice_coef: 0.836 - ETA: 15s - loss: -0.8351 - dice_coef: 0.835 - ETA: 14s - loss: -0.8364 - dice_coef: 0.836 - ETA: 13s - loss: -0.8366 - dice_coef: 0.836 - ETA: 13s - loss: -0.8366 - dice_coef: 0.836 - ETA: 12s - loss: -0.8378 - dice_coef: 0.837 - ETA: 11s - loss: -0.8382 - dice_coef: 0.838 - ETA: 10s - loss: -0.8368 - dice_coef: 0.836 - ETA: 9s - loss: -0.8382 - dice_coef: 0.838 - ETA: 9s - loss: -0.8389 - dice_coef: 0.83 - ETA: 8s - loss: -0.8395 - dice_coef: 0.83 - ETA: 7s - loss: -0.8363 - dice_coef: 0.83 - ETA: 6s - loss: -0.8382 - dice_coef: 0.83 - ETA: 6s - loss: -0.8385 - dice_coef: 0.83 - ETA: 5s - loss: -0.8397 - dice_coef: 0.83 - ETA: 4s - loss: -0.8410 - dice_coef: 0.84 - ETA: 3s - loss: -0.8398 - dice_coef: 0.83 - ETA: 3s - loss: -0.8400 - dice_coef: 0.84 - ETA: 2s - loss: -0.8389 - dice_coef: 0.83 - ETA: 1s - loss: -0.8394 - dice_coef: 0.83 - ETA: 0s - loss: -0.8408 - dice_coef: 0.84 - 42s 25ms/step - loss: -0.8423 - dice_coef: 0.8423 - val_loss: -0.7796 - val_dice_coef: 0.7796\n",
      "\n",
      "Epoch 00003: val_loss did not improve\n",
      "Epoch 4/10\n"
     ]
    },
    {
     "name": "stdout",
     "output_type": "stream",
     "text": [
      "1693/1693 [==============================] - ETA: 40s - loss: -0.8356 - dice_coef: 0.835 - ETA: 39s - loss: -0.7742 - dice_coef: 0.774 - ETA: 38s - loss: -0.7664 - dice_coef: 0.766 - ETA: 37s - loss: -0.7902 - dice_coef: 0.790 - ETA: 37s - loss: -0.8044 - dice_coef: 0.804 - ETA: 36s - loss: -0.8221 - dice_coef: 0.822 - ETA: 35s - loss: -0.8316 - dice_coef: 0.831 - ETA: 34s - loss: -0.8277 - dice_coef: 0.827 - ETA: 34s - loss: -0.8231 - dice_coef: 0.823 - ETA: 33s - loss: -0.8230 - dice_coef: 0.823 - ETA: 32s - loss: -0.8239 - dice_coef: 0.823 - ETA: 31s - loss: -0.8240 - dice_coef: 0.824 - ETA: 31s - loss: -0.8247 - dice_coef: 0.824 - ETA: 30s - loss: -0.8307 - dice_coef: 0.830 - ETA: 29s - loss: -0.8332 - dice_coef: 0.833 - ETA: 28s - loss: -0.8386 - dice_coef: 0.838 - ETA: 27s - loss: -0.8383 - dice_coef: 0.838 - ETA: 27s - loss: -0.8417 - dice_coef: 0.841 - ETA: 26s - loss: -0.8450 - dice_coef: 0.845 - ETA: 25s - loss: -0.8431 - dice_coef: 0.843 - ETA: 24s - loss: -0.8441 - dice_coef: 0.844 - ETA: 24s - loss: -0.8466 - dice_coef: 0.846 - ETA: 23s - loss: -0.8492 - dice_coef: 0.849 - ETA: 22s - loss: -0.8501 - dice_coef: 0.850 - ETA: 21s - loss: -0.8470 - dice_coef: 0.847 - ETA: 20s - loss: -0.8486 - dice_coef: 0.848 - ETA: 20s - loss: -0.8473 - dice_coef: 0.847 - ETA: 19s - loss: -0.8480 - dice_coef: 0.848 - ETA: 18s - loss: -0.8457 - dice_coef: 0.845 - ETA: 17s - loss: -0.8482 - dice_coef: 0.848 - ETA: 17s - loss: -0.8504 - dice_coef: 0.850 - ETA: 16s - loss: -0.8492 - dice_coef: 0.849 - ETA: 15s - loss: -0.8452 - dice_coef: 0.845 - ETA: 14s - loss: -0.8423 - dice_coef: 0.842 - ETA: 13s - loss: -0.8434 - dice_coef: 0.843 - ETA: 13s - loss: -0.8411 - dice_coef: 0.841 - ETA: 12s - loss: -0.8410 - dice_coef: 0.841 - ETA: 11s - loss: -0.8386 - dice_coef: 0.838 - ETA: 10s - loss: -0.8396 - dice_coef: 0.839 - ETA: 10s - loss: -0.8408 - dice_coef: 0.840 - ETA: 9s - loss: -0.8406 - dice_coef: 0.840 - ETA: 8s - loss: -0.8428 - dice_coef: 0.84 - ETA: 7s - loss: -0.8417 - dice_coef: 0.84 - ETA: 6s - loss: -0.8403 - dice_coef: 0.84 - ETA: 6s - loss: -0.8406 - dice_coef: 0.84 - ETA: 5s - loss: -0.8406 - dice_coef: 0.84 - ETA: 4s - loss: -0.8409 - dice_coef: 0.84 - ETA: 3s - loss: -0.8423 - dice_coef: 0.84 - ETA: 3s - loss: -0.8439 - dice_coef: 0.84 - ETA: 2s - loss: -0.8446 - dice_coef: 0.84 - ETA: 1s - loss: -0.8450 - dice_coef: 0.84 - ETA: 0s - loss: -0.8444 - dice_coef: 0.84 - 42s 25ms/step - loss: -0.8450 - dice_coef: 0.8450 - val_loss: -0.7723 - val_dice_coef: 0.7723\n",
      "\n",
      "Epoch 00004: val_loss did not improve\n",
      "Epoch 5/10\n",
      "1693/1693 [==============================] - ETA: 40s - loss: -0.7572 - dice_coef: 0.757 - ETA: 38s - loss: -0.8049 - dice_coef: 0.804 - ETA: 38s - loss: -0.8234 - dice_coef: 0.823 - ETA: 37s - loss: -0.8092 - dice_coef: 0.809 - ETA: 36s - loss: -0.8045 - dice_coef: 0.804 - ETA: 36s - loss: -0.8062 - dice_coef: 0.806 - ETA: 35s - loss: -0.8177 - dice_coef: 0.817 - ETA: 35s - loss: -0.8069 - dice_coef: 0.806 - ETA: 34s - loss: -0.8031 - dice_coef: 0.803 - ETA: 33s - loss: -0.8078 - dice_coef: 0.807 - ETA: 32s - loss: -0.8169 - dice_coef: 0.816 - ETA: 31s - loss: -0.8152 - dice_coef: 0.815 - ETA: 31s - loss: -0.8163 - dice_coef: 0.816 - ETA: 30s - loss: -0.8228 - dice_coef: 0.822 - ETA: 29s - loss: -0.8249 - dice_coef: 0.824 - ETA: 28s - loss: -0.8217 - dice_coef: 0.821 - ETA: 27s - loss: -0.8249 - dice_coef: 0.824 - ETA: 27s - loss: -0.8268 - dice_coef: 0.826 - ETA: 26s - loss: -0.8309 - dice_coef: 0.830 - ETA: 25s - loss: -0.8337 - dice_coef: 0.833 - ETA: 24s - loss: -0.8320 - dice_coef: 0.832 - ETA: 24s - loss: -0.8289 - dice_coef: 0.828 - ETA: 23s - loss: -0.8324 - dice_coef: 0.832 - ETA: 22s - loss: -0.8338 - dice_coef: 0.833 - ETA: 21s - loss: -0.8364 - dice_coef: 0.836 - ETA: 20s - loss: -0.8368 - dice_coef: 0.836 - ETA: 20s - loss: -0.8402 - dice_coef: 0.840 - ETA: 19s - loss: -0.8422 - dice_coef: 0.842 - ETA: 18s - loss: -0.8398 - dice_coef: 0.839 - ETA: 17s - loss: -0.8426 - dice_coef: 0.842 - ETA: 17s - loss: -0.8465 - dice_coef: 0.846 - ETA: 16s - loss: -0.8495 - dice_coef: 0.849 - ETA: 15s - loss: -0.8508 - dice_coef: 0.850 - ETA: 14s - loss: -0.8524 - dice_coef: 0.852 - ETA: 13s - loss: -0.8511 - dice_coef: 0.851 - ETA: 13s - loss: -0.8500 - dice_coef: 0.850 - ETA: 12s - loss: -0.8473 - dice_coef: 0.847 - ETA: 11s - loss: -0.8475 - dice_coef: 0.847 - ETA: 10s - loss: -0.8481 - dice_coef: 0.848 - ETA: 10s - loss: -0.8477 - dice_coef: 0.847 - ETA: 9s - loss: -0.8482 - dice_coef: 0.848 - ETA: 8s - loss: -0.8477 - dice_coef: 0.84 - ETA: 7s - loss: -0.8499 - dice_coef: 0.84 - ETA: 7s - loss: -0.8509 - dice_coef: 0.85 - ETA: 6s - loss: -0.8498 - dice_coef: 0.84 - ETA: 5s - loss: -0.8501 - dice_coef: 0.85 - ETA: 4s - loss: -0.8508 - dice_coef: 0.85 - ETA: 3s - loss: -0.8500 - dice_coef: 0.85 - ETA: 3s - loss: -0.8509 - dice_coef: 0.85 - ETA: 2s - loss: -0.8508 - dice_coef: 0.85 - ETA: 1s - loss: -0.8523 - dice_coef: 0.85 - ETA: 0s - loss: -0.8525 - dice_coef: 0.85 - 44s 26ms/step - loss: -0.8511 - dice_coef: 0.8511 - val_loss: -0.7721 - val_dice_coef: 0.7721\n",
      "\n",
      "Epoch 00005: val_loss did not improve\n",
      "Epoch 6/10\n",
      "1693/1693 [==============================] - ETA: 39s - loss: -0.7751 - dice_coef: 0.775 - ETA: 39s - loss: -0.8370 - dice_coef: 0.837 - ETA: 38s - loss: -0.8483 - dice_coef: 0.848 - ETA: 37s - loss: -0.8499 - dice_coef: 0.849 - ETA: 36s - loss: -0.8547 - dice_coef: 0.854 - ETA: 36s - loss: -0.8401 - dice_coef: 0.840 - ETA: 35s - loss: -0.8410 - dice_coef: 0.841 - ETA: 34s - loss: -0.8298 - dice_coef: 0.829 - ETA: 33s - loss: -0.8299 - dice_coef: 0.829 - ETA: 33s - loss: -0.8275 - dice_coef: 0.827 - ETA: 32s - loss: -0.8307 - dice_coef: 0.830 - ETA: 31s - loss: -0.8276 - dice_coef: 0.827 - ETA: 31s - loss: -0.8334 - dice_coef: 0.833 - ETA: 30s - loss: -0.8378 - dice_coef: 0.837 - ETA: 29s - loss: -0.8341 - dice_coef: 0.834 - ETA: 28s - loss: -0.8381 - dice_coef: 0.838 - ETA: 27s - loss: -0.8431 - dice_coef: 0.843 - ETA: 27s - loss: -0.8435 - dice_coef: 0.843 - ETA: 26s - loss: -0.8444 - dice_coef: 0.844 - ETA: 25s - loss: -0.8425 - dice_coef: 0.842 - ETA: 24s - loss: -0.8463 - dice_coef: 0.846 - ETA: 24s - loss: -0.8459 - dice_coef: 0.845 - ETA: 23s - loss: -0.8458 - dice_coef: 0.845 - ETA: 22s - loss: -0.8460 - dice_coef: 0.846 - ETA: 21s - loss: -0.8468 - dice_coef: 0.846 - ETA: 21s - loss: -0.8448 - dice_coef: 0.844 - ETA: 20s - loss: -0.8439 - dice_coef: 0.843 - ETA: 19s - loss: -0.8441 - dice_coef: 0.844 - ETA: 18s - loss: -0.8450 - dice_coef: 0.845 - ETA: 18s - loss: -0.8434 - dice_coef: 0.843 - ETA: 17s - loss: -0.8406 - dice_coef: 0.840 - ETA: 16s - loss: -0.8389 - dice_coef: 0.838 - ETA: 15s - loss: -0.8384 - dice_coef: 0.838 - ETA: 14s - loss: -0.8394 - dice_coef: 0.839 - ETA: 14s - loss: -0.8388 - dice_coef: 0.838 - ETA: 13s - loss: -0.8414 - dice_coef: 0.841 - ETA: 12s - loss: -0.8415 - dice_coef: 0.841 - ETA: 11s - loss: -0.8407 - dice_coef: 0.840 - ETA: 10s - loss: -0.8417 - dice_coef: 0.841 - ETA: 10s - loss: -0.8423 - dice_coef: 0.842 - ETA: 9s - loss: -0.8415 - dice_coef: 0.841 - ETA: 8s - loss: -0.8426 - dice_coef: 0.84 - ETA: 7s - loss: -0.8447 - dice_coef: 0.84 - ETA: 7s - loss: -0.8456 - dice_coef: 0.84 - ETA: 6s - loss: -0.8470 - dice_coef: 0.84 - ETA: 5s - loss: -0.8473 - dice_coef: 0.84 - ETA: 4s - loss: -0.8455 - dice_coef: 0.84 - ETA: 3s - loss: -0.8453 - dice_coef: 0.84 - ETA: 3s - loss: -0.8463 - dice_coef: 0.84 - ETA: 2s - loss: -0.8475 - dice_coef: 0.84 - ETA: 1s - loss: -0.8479 - dice_coef: 0.84 - ETA: 0s - loss: -0.8491 - dice_coef: 0.84 - 43s 26ms/step - loss: -0.8489 - dice_coef: 0.8489 - val_loss: -0.7707 - val_dice_coef: 0.7707\n",
      "\n",
      "Epoch 00006: val_loss did not improve\n",
      "Epoch 7/10\n"
     ]
    },
    {
     "name": "stdout",
     "output_type": "stream",
     "text": [
      "1693/1693 [==============================] - ETA: 52s - loss: -0.8126 - dice_coef: 0.812 - ETA: 51s - loss: -0.8558 - dice_coef: 0.855 - ETA: 50s - loss: -0.8529 - dice_coef: 0.852 - ETA: 50s - loss: -0.8432 - dice_coef: 0.843 - ETA: 49s - loss: -0.8439 - dice_coef: 0.843 - ETA: 47s - loss: -0.8467 - dice_coef: 0.846 - ETA: 46s - loss: -0.8449 - dice_coef: 0.844 - ETA: 44s - loss: -0.8456 - dice_coef: 0.845 - ETA: 42s - loss: -0.8455 - dice_coef: 0.845 - ETA: 41s - loss: -0.8381 - dice_coef: 0.838 - ETA: 39s - loss: -0.8352 - dice_coef: 0.835 - ETA: 38s - loss: -0.8388 - dice_coef: 0.838 - ETA: 37s - loss: -0.8388 - dice_coef: 0.838 - ETA: 35s - loss: -0.8429 - dice_coef: 0.842 - ETA: 34s - loss: -0.8454 - dice_coef: 0.845 - ETA: 34s - loss: -0.8499 - dice_coef: 0.849 - ETA: 33s - loss: -0.8506 - dice_coef: 0.850 - ETA: 32s - loss: -0.8544 - dice_coef: 0.854 - ETA: 32s - loss: -0.8473 - dice_coef: 0.847 - ETA: 31s - loss: -0.8499 - dice_coef: 0.849 - ETA: 30s - loss: -0.8548 - dice_coef: 0.854 - ETA: 29s - loss: -0.8530 - dice_coef: 0.853 - ETA: 28s - loss: -0.8541 - dice_coef: 0.854 - ETA: 27s - loss: -0.8534 - dice_coef: 0.853 - ETA: 26s - loss: -0.8532 - dice_coef: 0.853 - ETA: 25s - loss: -0.8515 - dice_coef: 0.851 - ETA: 24s - loss: -0.8516 - dice_coef: 0.851 - ETA: 23s - loss: -0.8547 - dice_coef: 0.854 - ETA: 22s - loss: -0.8564 - dice_coef: 0.856 - ETA: 21s - loss: -0.8511 - dice_coef: 0.851 - ETA: 20s - loss: -0.8519 - dice_coef: 0.851 - ETA: 19s - loss: -0.8532 - dice_coef: 0.853 - ETA: 18s - loss: -0.8516 - dice_coef: 0.851 - ETA: 17s - loss: -0.8526 - dice_coef: 0.852 - ETA: 16s - loss: -0.8553 - dice_coef: 0.855 - ETA: 15s - loss: -0.8538 - dice_coef: 0.853 - ETA: 14s - loss: -0.8528 - dice_coef: 0.852 - ETA: 13s - loss: -0.8519 - dice_coef: 0.851 - ETA: 12s - loss: -0.8519 - dice_coef: 0.851 - ETA: 11s - loss: -0.8518 - dice_coef: 0.851 - ETA: 10s - loss: -0.8512 - dice_coef: 0.851 - ETA: 9s - loss: -0.8522 - dice_coef: 0.852 - ETA: 8s - loss: -0.8490 - dice_coef: 0.84 - ETA: 7s - loss: -0.8491 - dice_coef: 0.84 - ETA: 6s - loss: -0.8489 - dice_coef: 0.84 - ETA: 6s - loss: -0.8495 - dice_coef: 0.84 - ETA: 5s - loss: -0.8516 - dice_coef: 0.85 - ETA: 4s - loss: -0.8516 - dice_coef: 0.85 - ETA: 3s - loss: -0.8511 - dice_coef: 0.85 - ETA: 2s - loss: -0.8510 - dice_coef: 0.85 - ETA: 1s - loss: -0.8504 - dice_coef: 0.85 - ETA: 0s - loss: -0.8502 - dice_coef: 0.85 - 47s 28ms/step - loss: -0.8519 - dice_coef: 0.8519 - val_loss: -0.7693 - val_dice_coef: 0.7693\n",
      "\n",
      "Epoch 00007: val_loss did not improve\n",
      "Epoch 8/10\n",
      "1693/1693 [==============================] - ETA: 41s - loss: -0.8214 - dice_coef: 0.821 - ETA: 42s - loss: -0.8069 - dice_coef: 0.806 - ETA: 40s - loss: -0.8655 - dice_coef: 0.865 - ETA: 39s - loss: -0.8692 - dice_coef: 0.869 - ETA: 38s - loss: -0.8754 - dice_coef: 0.875 - ETA: 37s - loss: -0.8808 - dice_coef: 0.880 - ETA: 37s - loss: -0.8782 - dice_coef: 0.878 - ETA: 37s - loss: -0.8690 - dice_coef: 0.869 - ETA: 36s - loss: -0.8684 - dice_coef: 0.868 - ETA: 35s - loss: -0.8704 - dice_coef: 0.870 - ETA: 34s - loss: -0.8675 - dice_coef: 0.867 - ETA: 34s - loss: -0.8606 - dice_coef: 0.860 - ETA: 33s - loss: -0.8592 - dice_coef: 0.859 - ETA: 32s - loss: -0.8580 - dice_coef: 0.858 - ETA: 32s - loss: -0.8632 - dice_coef: 0.863 - ETA: 31s - loss: -0.8546 - dice_coef: 0.854 - ETA: 30s - loss: -0.8498 - dice_coef: 0.849 - ETA: 30s - loss: -0.8480 - dice_coef: 0.848 - ETA: 29s - loss: -0.8488 - dice_coef: 0.848 - ETA: 28s - loss: -0.8523 - dice_coef: 0.852 - ETA: 27s - loss: -0.8514 - dice_coef: 0.851 - ETA: 27s - loss: -0.8472 - dice_coef: 0.847 - ETA: 26s - loss: -0.8517 - dice_coef: 0.851 - ETA: 25s - loss: -0.8534 - dice_coef: 0.853 - ETA: 24s - loss: -0.8560 - dice_coef: 0.856 - ETA: 23s - loss: -0.8549 - dice_coef: 0.854 - ETA: 23s - loss: -0.8574 - dice_coef: 0.857 - ETA: 22s - loss: -0.8547 - dice_coef: 0.854 - ETA: 21s - loss: -0.8523 - dice_coef: 0.852 - ETA: 20s - loss: -0.8530 - dice_coef: 0.853 - ETA: 19s - loss: -0.8525 - dice_coef: 0.852 - ETA: 18s - loss: -0.8514 - dice_coef: 0.851 - ETA: 17s - loss: -0.8506 - dice_coef: 0.850 - ETA: 17s - loss: -0.8511 - dice_coef: 0.851 - ETA: 16s - loss: -0.8514 - dice_coef: 0.851 - ETA: 15s - loss: -0.8517 - dice_coef: 0.851 - ETA: 14s - loss: -0.8509 - dice_coef: 0.850 - ETA: 13s - loss: -0.8506 - dice_coef: 0.850 - ETA: 12s - loss: -0.8488 - dice_coef: 0.848 - ETA: 11s - loss: -0.8491 - dice_coef: 0.849 - ETA: 10s - loss: -0.8503 - dice_coef: 0.850 - ETA: 9s - loss: -0.8485 - dice_coef: 0.848 - ETA: 8s - loss: -0.8486 - dice_coef: 0.84 - ETA: 7s - loss: -0.8478 - dice_coef: 0.84 - ETA: 6s - loss: -0.8493 - dice_coef: 0.84 - ETA: 6s - loss: -0.8480 - dice_coef: 0.84 - ETA: 5s - loss: -0.8492 - dice_coef: 0.84 - ETA: 4s - loss: -0.8494 - dice_coef: 0.84 - ETA: 3s - loss: -0.8490 - dice_coef: 0.84 - ETA: 2s - loss: -0.8508 - dice_coef: 0.85 - ETA: 1s - loss: -0.8513 - dice_coef: 0.85 - ETA: 0s - loss: -0.8524 - dice_coef: 0.85 - 47s 28ms/step - loss: -0.8519 - dice_coef: 0.8519 - val_loss: -0.7734 - val_dice_coef: 0.7734\n",
      "\n",
      "Epoch 00008: val_loss did not improve\n",
      "Epoch 9/10\n",
      "1693/1693 [==============================] - ETA: 41s - loss: -0.8160 - dice_coef: 0.816 - ETA: 40s - loss: -0.8208 - dice_coef: 0.820 - ETA: 40s - loss: -0.8421 - dice_coef: 0.842 - ETA: 39s - loss: -0.8616 - dice_coef: 0.861 - ETA: 38s - loss: -0.8678 - dice_coef: 0.867 - ETA: 37s - loss: -0.8806 - dice_coef: 0.880 - ETA: 36s - loss: -0.8902 - dice_coef: 0.890 - ETA: 35s - loss: -0.8939 - dice_coef: 0.893 - ETA: 35s - loss: -0.8918 - dice_coef: 0.891 - ETA: 34s - loss: -0.8939 - dice_coef: 0.893 - ETA: 33s - loss: -0.8863 - dice_coef: 0.886 - ETA: 32s - loss: -0.8904 - dice_coef: 0.890 - ETA: 31s - loss: -0.8941 - dice_coef: 0.894 - ETA: 30s - loss: -0.8875 - dice_coef: 0.887 - ETA: 30s - loss: -0.8818 - dice_coef: 0.881 - ETA: 29s - loss: -0.8806 - dice_coef: 0.880 - ETA: 28s - loss: -0.8724 - dice_coef: 0.872 - ETA: 27s - loss: -0.8731 - dice_coef: 0.873 - ETA: 26s - loss: -0.8678 - dice_coef: 0.867 - ETA: 26s - loss: -0.8706 - dice_coef: 0.870 - ETA: 25s - loss: -0.8710 - dice_coef: 0.871 - ETA: 24s - loss: -0.8705 - dice_coef: 0.870 - ETA: 23s - loss: -0.8708 - dice_coef: 0.870 - ETA: 22s - loss: -0.8689 - dice_coef: 0.868 - ETA: 22s - loss: -0.8669 - dice_coef: 0.866 - ETA: 21s - loss: -0.8685 - dice_coef: 0.868 - ETA: 20s - loss: -0.8685 - dice_coef: 0.868 - ETA: 19s - loss: -0.8670 - dice_coef: 0.867 - ETA: 19s - loss: -0.8639 - dice_coef: 0.863 - ETA: 18s - loss: -0.8604 - dice_coef: 0.860 - ETA: 17s - loss: -0.8580 - dice_coef: 0.858 - ETA: 16s - loss: -0.8593 - dice_coef: 0.859 - ETA: 15s - loss: -0.8595 - dice_coef: 0.859 - ETA: 15s - loss: -0.8605 - dice_coef: 0.860 - ETA: 14s - loss: -0.8609 - dice_coef: 0.860 - ETA: 13s - loss: -0.8618 - dice_coef: 0.861 - ETA: 12s - loss: -0.8614 - dice_coef: 0.861 - ETA: 11s - loss: -0.8595 - dice_coef: 0.859 - ETA: 11s - loss: -0.8591 - dice_coef: 0.859 - ETA: 10s - loss: -0.8573 - dice_coef: 0.857 - ETA: 9s - loss: -0.8539 - dice_coef: 0.853 - ETA: 8s - loss: -0.8526 - dice_coef: 0.85 - ETA: 7s - loss: -0.8543 - dice_coef: 0.85 - ETA: 7s - loss: -0.8538 - dice_coef: 0.85 - ETA: 6s - loss: -0.8537 - dice_coef: 0.85 - ETA: 5s - loss: -0.8516 - dice_coef: 0.85 - ETA: 4s - loss: -0.8510 - dice_coef: 0.85 - ETA: 3s - loss: -0.8514 - dice_coef: 0.85 - ETA: 3s - loss: -0.8503 - dice_coef: 0.85 - ETA: 2s - loss: -0.8494 - dice_coef: 0.84 - ETA: 1s - loss: -0.8496 - dice_coef: 0.84 - ETA: 0s - loss: -0.8498 - dice_coef: 0.84 - 43s 26ms/step - loss: -0.8499 - dice_coef: 0.8499 - val_loss: -0.7699 - val_dice_coef: 0.7699\n",
      "\n",
      "Epoch 00009: val_loss did not improve\n",
      "Epoch 10/10\n"
     ]
    },
    {
     "name": "stdout",
     "output_type": "stream",
     "text": [
      "1693/1693 [==============================] - ETA: 44s - loss: -0.8600 - dice_coef: 0.860 - ETA: 43s - loss: -0.8818 - dice_coef: 0.881 - ETA: 41s - loss: -0.8746 - dice_coef: 0.874 - ETA: 40s - loss: -0.8824 - dice_coef: 0.882 - ETA: 40s - loss: -0.8848 - dice_coef: 0.884 - ETA: 39s - loss: -0.8620 - dice_coef: 0.862 - ETA: 38s - loss: -0.8727 - dice_coef: 0.872 - ETA: 37s - loss: -0.8618 - dice_coef: 0.861 - ETA: 36s - loss: -0.8723 - dice_coef: 0.872 - ETA: 35s - loss: -0.8722 - dice_coef: 0.872 - ETA: 34s - loss: -0.8642 - dice_coef: 0.864 - ETA: 34s - loss: -0.8652 - dice_coef: 0.865 - ETA: 33s - loss: -0.8643 - dice_coef: 0.864 - ETA: 32s - loss: -0.8613 - dice_coef: 0.861 - ETA: 31s - loss: -0.8598 - dice_coef: 0.859 - ETA: 30s - loss: -0.8601 - dice_coef: 0.860 - ETA: 29s - loss: -0.8643 - dice_coef: 0.864 - ETA: 28s - loss: -0.8585 - dice_coef: 0.858 - ETA: 27s - loss: -0.8612 - dice_coef: 0.861 - ETA: 27s - loss: -0.8598 - dice_coef: 0.859 - ETA: 26s - loss: -0.8582 - dice_coef: 0.858 - ETA: 26s - loss: -0.8606 - dice_coef: 0.860 - ETA: 25s - loss: -0.8586 - dice_coef: 0.858 - ETA: 24s - loss: -0.8567 - dice_coef: 0.856 - ETA: 23s - loss: -0.8562 - dice_coef: 0.856 - ETA: 22s - loss: -0.8547 - dice_coef: 0.854 - ETA: 21s - loss: -0.8557 - dice_coef: 0.855 - ETA: 20s - loss: -0.8586 - dice_coef: 0.858 - ETA: 19s - loss: -0.8589 - dice_coef: 0.858 - ETA: 19s - loss: -0.8570 - dice_coef: 0.857 - ETA: 18s - loss: -0.8575 - dice_coef: 0.857 - ETA: 17s - loss: -0.8566 - dice_coef: 0.856 - ETA: 16s - loss: -0.8572 - dice_coef: 0.857 - ETA: 15s - loss: -0.8555 - dice_coef: 0.855 - ETA: 14s - loss: -0.8566 - dice_coef: 0.856 - ETA: 13s - loss: -0.8570 - dice_coef: 0.857 - ETA: 13s - loss: -0.8550 - dice_coef: 0.855 - ETA: 12s - loss: -0.8554 - dice_coef: 0.855 - ETA: 11s - loss: -0.8550 - dice_coef: 0.855 - ETA: 10s - loss: -0.8557 - dice_coef: 0.855 - ETA: 9s - loss: -0.8534 - dice_coef: 0.853 - ETA: 8s - loss: -0.8540 - dice_coef: 0.85 - ETA: 8s - loss: -0.8548 - dice_coef: 0.85 - ETA: 7s - loss: -0.8523 - dice_coef: 0.85 - ETA: 6s - loss: -0.8538 - dice_coef: 0.85 - ETA: 5s - loss: -0.8530 - dice_coef: 0.85 - ETA: 4s - loss: -0.8542 - dice_coef: 0.85 - ETA: 4s - loss: -0.8552 - dice_coef: 0.85 - ETA: 3s - loss: -0.8552 - dice_coef: 0.85 - ETA: 2s - loss: -0.8563 - dice_coef: 0.85 - ETA: 1s - loss: -0.8561 - dice_coef: 0.85 - ETA: 0s - loss: -0.8560 - dice_coef: 0.85 - 44s 26ms/step - loss: -0.8571 - dice_coef: 0.8571 - val_loss: -0.7733 - val_dice_coef: 0.7733\n",
      "\n",
      "Epoch 00010: val_loss did not improve\n"
     ]
    },
    {
     "data": {
      "text/plain": [
       "<tensorflow.python.keras._impl.keras.callbacks.History at 0x2a677e900f0>"
      ]
     },
     "execution_count": 27,
     "metadata": {},
     "output_type": "execute_result"
    }
   ],
   "source": [
    "\n",
    "checkpointer = tf.keras.callbacks.ModelCheckpoint(filepath='saved_models/weights.best.NASNet_TOP.hdf5', verbose=1, save_best_only=True)\n",
    "\n",
    "batch_size = 32\n",
    "epochs = 10\n",
    "\n",
    "NASNet_top.fit(train_NASNet, train_targets, \n",
    "          validation_data=(valid_NASNet, valid_targets),\n",
    "          epochs=epochs, batch_size=batch_size, callbacks=[checkpointer], verbose=1)\n"
   ]
  },
  {
   "cell_type": "markdown",
   "metadata": {},
   "source": [
    "### Carrega os Pesos do Modelo com o Melhor Desempenho"
   ]
  },
  {
   "cell_type": "code",
   "execution_count": 43,
   "metadata": {},
   "outputs": [],
   "source": [
    "NASNet_top.load_weights('saved_models/weights.best.NASNet_TOP.hdf5')"
   ]
  },
  {
   "cell_type": "markdown",
   "metadata": {},
   "source": [
    "### Métricas de Avaliação\n",
    "\n",
    "Abaixo seguem as principais métricas usadas para avaliar o modelo. "
   ]
  },
  {
   "cell_type": "markdown",
   "metadata": {},
   "source": [
    "### Acurácia"
   ]
  },
  {
   "cell_type": "code",
   "execution_count": 44,
   "metadata": {},
   "outputs": [
    {
     "name": "stdout",
     "output_type": "stream",
     "text": [
      "Acurácia no Conjunto de Testes: 77.8926%\n"
     ]
    }
   ],
   "source": [
    "# obtain the predicted disease class index for each image in the test set\n",
    "NASNet_predictions = [np.argmax(NASNet_top.predict(np.expand_dims(feature, axis=0))) for feature in test_NASNet]\n",
    "\n",
    "# report test accuracy\n",
    "test_accuracy = 100*np.sum(np.array(NASNet_predictions)==np.argmax(test_targets, axis=1))/len(NASNet_predictions)\n",
    "print('Acurácia no Conjunto de Testes: %.4f%%' % test_accuracy)"
   ]
  },
  {
   "cell_type": "markdown",
   "metadata": {},
   "source": [
    "### Salva as Previsões do Modelo no Arquivo sample_predictions.csv"
   ]
  },
  {
   "cell_type": "code",
   "execution_count": 45,
   "metadata": {},
   "outputs": [],
   "source": [
    "path=\"data/test/\"\n",
    "\n",
    "Id=[]\n",
    "task_1=[]\n",
    "task_2=[]\n",
    "\n",
    "for diretory in os.listdir(path):\n",
    "    for (img,index) in zip(os.listdir(path+diretory),NASNet_predictions):\n",
    "        Id.append(path+diretory+'/'+img)\n",
    "        #se for melanoma\n",
    "        if index==0:\n",
    "            task_1.append(1)\n",
    "            task_2.append(0)\n",
    "        #se for nevus\n",
    "        if index==1:\n",
    "            task_1.append(0)\n",
    "            task_2.append(0)\n",
    "        #se for seborrheic keratosis\n",
    "        if index==2:\n",
    "            task_1.append(0)\n",
    "            task_2.append(1)\n",
    "        \n",
    "raw_data = {'Id': Id,'task_1':task_1, 'task_2':task_2}\n",
    "df = pd.DataFrame(raw_data, columns = ['Id', 'task_1', 'task_2'])\n",
    "df.to_csv('sample_predictions.csv',index = False)"
   ]
  },
  {
   "cell_type": "code",
   "execution_count": 46,
   "metadata": {},
   "outputs": [],
   "source": [
    "from sklearn.metrics import fbeta_score, precision_score, recall_score\n",
    "from get_results import plot_roc_auc, plot_confusion_matrix"
   ]
  },
  {
   "cell_type": "code",
   "execution_count": 47,
   "metadata": {},
   "outputs": [],
   "source": [
    "test_predictions = np_utils.to_categorical(NASNet_predictions, 3)"
   ]
  },
  {
   "cell_type": "markdown",
   "metadata": {},
   "source": [
    "### Precisão"
   ]
  },
  {
   "cell_type": "code",
   "execution_count": 48,
   "metadata": {},
   "outputs": [
    {
     "name": "stdout",
     "output_type": "stream",
     "text": [
      "Precisão no Conjunto de Testes: 75.1341%\n"
     ]
    }
   ],
   "source": [
    "test_precision=precision_score(test_targets, test_predictions, average='weighted')\n",
    "test_precision*=100\n",
    "print('Precisão no Conjunto de Testes: %.4f%%' % test_precision)"
   ]
  },
  {
   "cell_type": "markdown",
   "metadata": {},
   "source": [
    "### Revocação (Recall)"
   ]
  },
  {
   "cell_type": "code",
   "execution_count": 49,
   "metadata": {},
   "outputs": [
    {
     "name": "stdout",
     "output_type": "stream",
     "text": [
      "Revocação no Conjunto de Testes: 77.8926%\n"
     ]
    }
   ],
   "source": [
    "test_recall=recall_score(test_targets, test_predictions, average='weighted')\n",
    "#recall importante\n",
    "test_recall*=100\n",
    "print('Revocação no Conjunto de Testes: %.4f%%' % test_recall)"
   ]
  },
  {
   "cell_type": "markdown",
   "metadata": {},
   "source": [
    "### FBeta Score"
   ]
  },
  {
   "cell_type": "code",
   "execution_count": 50,
   "metadata": {},
   "outputs": [
    {
     "name": "stdout",
     "output_type": "stream",
     "text": [
      "F4 Score no Conjunto de Testes: 77.4884%\n"
     ]
    }
   ],
   "source": [
    "#Calcula fbeta score, usando beta igual a 4\n",
    "\n",
    "Beta=4\n",
    "\n",
    "test_fbeta_score=fbeta_score(test_targets, test_predictions, Beta, average='weighted')\n",
    "test_fbeta_score*=100\n",
    "print('F4 Score no Conjunto de Testes: %.4f%%' % test_fbeta_score)"
   ]
  },
  {
   "cell_type": "markdown",
   "metadata": {},
   "source": [
    "### Curva ROC"
   ]
  },
  {
   "cell_type": "code",
   "execution_count": 51,
   "metadata": {},
   "outputs": [
    {
     "name": "stderr",
     "output_type": "stream",
     "text": [
      "C:\\Users\\mathe\\Anaconda3\\envs\\ITALO\\lib\\site-packages\\ipykernel_launcher.py:4: FutureWarning: Method .as_matrix will be removed in a future version. Use .values instead.\n",
      "  after removing the cwd from sys.path.\n",
      "C:\\Users\\mathe\\Anaconda3\\envs\\ITALO\\lib\\site-packages\\ipykernel_launcher.py:8: FutureWarning: Method .as_matrix will be removed in a future version. Use .values instead.\n",
      "  \n"
     ]
    },
    {
     "data": {
      "image/png": "[encoded data removed]",
      "text/plain": [
       "<matplotlib.figure.Figure at 0x2a6756ec9b0>"
      ]
     },
     "metadata": {},
     "output_type": "display_data"
    },
    {
     "name": "stdout",
     "output_type": "stream",
     "text": [
      "Category 1 Score: 0.513\n",
      "Category 2 Score: 0.497\n",
      "Category 3 Score: 0.505\n"
     ]
    }
   ],
   "source": [
    "preds_path='sample_predictions.csv'\n",
    "\n",
    "truth = pd.read_csv('ground_truth.csv')\n",
    "y_true = truth.as_matrix(columns=[\"task_1\", \"task_2\"])\n",
    "\n",
    "# get model predictions for test dataset\n",
    "y_pred = pd.read_csv(preds_path)\n",
    "y_pred = y_pred.as_matrix(columns=[\"task_1\", \"task_2\"])\n",
    "\n",
    "# plot ROC curves and print scores\n",
    "plot_roc_auc(y_true, y_pred)"
   ]
  },
  {
   "cell_type": "markdown",
   "metadata": {},
   "source": [
    "### Matriz de Confusão"
   ]
  },
  {
   "cell_type": "code",
   "execution_count": 52,
   "metadata": {},
   "outputs": [
    {
     "data": {
      "image/png": "[encoded data removed]",
      "text/plain": [
       "<matplotlib.figure.Figure at 0x2a677762128>"
      ]
     },
     "metadata": {},
     "output_type": "display_data"
    }
   ],
   "source": [
    "# plot confusion matrix\n",
    "thresh=0.4\n",
    "classes = ['benign', 'malignant']\n",
    "plot_confusion_matrix(y_true[:,0], y_pred[:,0], thresh, classes)"
   ]
  },
  {
   "cell_type": "markdown",
   "metadata": {},
   "source": [
    "## Executa o Ajuste Fino"
   ]
  },
  {
   "cell_type": "markdown",
   "metadata": {},
   "source": [
    "### Cria o Modelo Base\n",
    "\n",
    "Cria uma instância do modelo NASNetLarge do Keras, pré-inicializada com os pesos da imagenet, cuja função é ser usado como classificador base na etapa do ajuste fino."
   ]
  },
  {
   "cell_type": "code",
   "execution_count": 55,
   "metadata": {},
   "outputs": [],
   "source": [
    "NASNet_base=tf.keras.applications.NASNetLarge(weights='imagenet', include_top=False, input_shape=train_tensors.shape[1:])"
   ]
  },
  {
   "cell_type": "markdown",
   "metadata": {},
   "source": [
    "### Constrói o Modelo\n",
    "\n",
    "Define a arquitetura da modelo final, que é composta pelos modelos NASNet_base e NASNet_top, definidos anteriormente."
   ]
  },
  {
   "cell_type": "code",
   "execution_count": 16,
   "metadata": {},
   "outputs": [
    {
     "name": "stdout",
     "output_type": "stream",
     "text": [
      "_________________________________________________________________\n",
      "Layer (type)                 Output Shape              Param #   \n",
      "=================================================================\n",
      "NASNet (Model)               (None, 11, 11, 4032)      84916818  \n",
      "_________________________________________________________________\n",
      "sequential_1 (Sequential)    (None, 3)                 32578563  \n",
      "=================================================================\n",
      "Total params: 117,495,381\n",
      "Trainable params: 117,282,585\n",
      "Non-trainable params: 212,796\n",
      "_________________________________________________________________\n"
     ]
    }
   ],
   "source": [
    "NASNet_model = tf.keras.models.Sequential()\n",
    "NASNet_model.add(NASNet_base)\n",
    "NASNet_model.add(NASNet_top)\n",
    "NASNet_model.summary()"
   ]
  },
  {
   "cell_type": "markdown",
   "metadata": {},
   "source": [
    "### Define quais Camadas do Modelo Poderão ser Treinadas\n",
    "\n",
    "Define as últimas 94 camadas do modelo como treináveis, que são compostas pelos 2 últimos blocos convolucionais da CNN NASNet, incluindo a última camada densamente conectada, responsável por realizar as predições."
   ]
  },
  {
   "cell_type": "code",
   "execution_count": 18,
   "metadata": {},
   "outputs": [],
   "source": [
    "for layer in NASNet_model.layers[-94:]: \n",
    "    layer.trainable = True\n"
   ]
  },
  {
   "cell_type": "markdown",
   "metadata": {},
   "source": [
    "### Compila o Modelo "
   ]
  },
  {
   "cell_type": "code",
   "execution_count": 19,
   "metadata": {},
   "outputs": [],
   "source": [
    "from keras import optimizers\n",
    "\n",
    "decay=1e-7\n",
    "\n",
    "opt = tf.keras.optimizers.Adam(lr=0.0001, beta_1=0.9, beta_2=0.999, epsilon=None, decay=decay, amsgrad=False, clipvalue=0.5)\n",
    "\n",
    "NASNet_model.compile(loss=dice_coef_loss, optimizer=opt, metrics=[dice_coef])"
   ]
  },
  {
   "cell_type": "markdown",
   "metadata": {},
   "source": [
    "### Treina o Modelo"
   ]
  },
  {
   "cell_type": "code",
   "execution_count": null,
   "metadata": {},
   "outputs": [
    {
     "name": "stdout",
     "output_type": "stream",
     "text": [
      "Epoch 1/1\n",
      "26/52 [==============>...............] - ETA: 7:04:44 - loss: -0.9009 - dice_coef: 0.900 - ETA: 6:59:27 - loss: -0.8581 - dice_coef: 0.858 - ETA: 6:30:53 - loss: -0.8662 - dice_coef: 0.866 - ETA: 6:13:19 - loss: -0.8617 - dice_coef: 0.861 - ETA: 6:00:47 - loss: -0.8476 - dice_coef: 0.847 - ETA: 5:49:23 - loss: -0.8471 - dice_coef: 0.847 - ETA: 5:39:17 - loss: -0.8521 - dice_coef: 0.852 - ETA: 5:29:41 - loss: -0.8507 - dice_coef: 0.850 - ETA: 5:22:26 - loss: -0.8441 - dice_coef: 0.844 - ETA: 5:17:36 - loss: -0.8381 - dice_coef: 0.838 - ETA: 5:10:26 - loss: -0.8417 - dice_coef: 0.841 - ETA: 5:02:12 - loss: -0.8361 - dice_coef: 0.836 - ETA: 4:55:26 - loss: -0.8326 - dice_coef: 0.832 - ETA: 4:48:53 - loss: -0.8330 - dice_coef: 0.833 - ETA: 4:42:58 - loss: -0.8319 - dice_coef: 0.831 - ETA: 4:35:49 - loss: -0.8290 - dice_coef: 0.829 - ETA: 4:28:27 - loss: -0.8264 - dice_coef: 0.826 - ETA: 4:21:24 - loss: -0.8259 - dice_coef: 0.825 - ETA: 4:14:21 - loss: -0.8253 - dice_coef: 0.825 - ETA: 4:11:58 - loss: -0.8242 - dice_coef: 0.824 - ETA: 4:04:00 - loss: -0.8240 - dice_coef: 0.824 - ETA: 3:56:04 - loss: -0.8286 - dice_coef: 0.828 - ETA: 3:47:52 - loss: -0.8321 - dice_coef: 0.832 - ETA: 3:39:21 - loss: -0.8311 - dice_coef: 0.831 - ETA: 3:30:55 - loss: -0.8254 - dice_coef: 0.825 - ETA: 3:22:34 - loss: -0.8267 - dice_coef: 0.8267"
     ]
    }
   ],
   "source": [
    " \n",
    "batch_size = 32\n",
    "\n",
    "epochs=1\n",
    "\n",
    "checkpointer = tf.keras.callbacks.ModelCheckpoint(filepath='saved_models/weights.best.NASNet_model.hdf5', verbose=1, save_best_only=True)\n",
    "\n",
    "\n",
    "\n",
    "datagen = tf.keras.preprocessing.image.ImageDataGenerator(\n",
    "        rotation_range=270,\n",
    "        width_shift_range=0.15,\n",
    "        height_shift_range=0.15,\n",
    "        shear_range=0.15,\n",
    "        zoom_range=0.2,\n",
    "        horizontal_flip=True,\n",
    "        vertical_flip=True,\n",
    "        fill_mode='nearest')\n",
    "\n",
    "datagen.fit(train_tensors)\n",
    "\n",
    "# fine-tune the model\n",
    "\n",
    "NASNet_model.fit_generator(\n",
    "        datagen.flow(train_tensors,train_targets,batch_size=batch_size),\n",
    "        steps_per_epoch=train_tensors.shape[0]//batch_size,\n",
    "        epochs=epochs,\n",
    "        verbose=1,\n",
    "        callbacks=[checkpointer],\n",
    "        validation_data=(valid_tensors,valid_targets),\n",
    "        validation_steps=valid_tensors.shape[0]//batch_size)\n"
   ]
  },
  {
   "cell_type": "markdown",
   "metadata": {},
   "source": [
    "### Carrega os Pesos do Modelo com o Melhor Desempenho no Conjunto de Validação"
   ]
  },
  {
   "cell_type": "code",
   "execution_count": null,
   "metadata": {},
   "outputs": [],
   "source": [
    "NASNet_model.load_weights('saved_models/weights.best.NASNet_model.hdf5')"
   ]
  },
  {
   "cell_type": "markdown",
   "metadata": {},
   "source": [
    "### Testa o Modelo Final"
   ]
  },
  {
   "cell_type": "code",
   "execution_count": 36,
   "metadata": {},
   "outputs": [
    {
     "name": "stdout",
     "output_type": "stream",
     "text": [
      "Acurácia no Conjunto de Testes: 61.9835%\n"
     ]
    }
   ],
   "source": [
    "# obtain the predicted disease class index for each image in the test set\n",
    "NASNet_predictions = [np.argmax(NASNet_model.predict(np.expand_dims(feature, axis=0))) for feature in test_tensors]\n",
    "\n",
    "# report test accuracy\n",
    "test_accuracy = 100*np.sum(np.array(NASNet_predictions)==np.argmax(test_targets, axis=1))/len(NASNet_predictions)\n",
    "print('Acurácia no Conjunto de Testes: %.4f%%' % test_accuracy)"
   ]
  },
  {
   "cell_type": "markdown",
   "metadata": {},
   "source": [
    "### Funcão para Realizar as Previsões\n",
    "\n",
    "A função abaixo recebe como parâmetro de entrada um modelo pré-treinado e um diretório, realiza as previsões, e retorna as previsões do modelo e os rótulos corretos."
   ]
  },
  {
   "cell_type": "code",
   "execution_count": null,
   "metadata": {},
   "outputs": [],
   "source": [
    "def NASNet_predict_diseases(model,image_path):\n",
    "    test_files, test_targets = load_dataset(image_path)\n",
    "    test_tensors = paths_to_tensor(test_files).astype('float32')/255\n",
    "    bf_prediction=model.predict(test_tensors)\n",
    "    predictions=[np.argmax(NASNet_top.predict(np.expand_dims(feature, axis=0))) for feature in bf_prediction]\n",
    "    test_predictions=[disease_names[prediction] for prediction in predictions]\n",
    "    test_targets=[disease_names[np.argmax(prediction)] for prediction in test_targets]\n",
    "    return test_predictions, test_targets"
   ]
  },
  {
   "cell_type": "markdown",
   "metadata": {},
   "source": [
    "### Demonstração\n",
    "\n",
    "A demonstração abaixo realiza previsões de todas as imagens no diretório image_path"
   ]
  },
  {
   "cell_type": "code",
   "execution_count": null,
   "metadata": {},
   "outputs": [
    {
     "name": "stderr",
     "output_type": "stream",
     "text": [
      "100%|████████████████████████████████████████████████████████████████████████████████| 484/484 [01:27<00:00,  5.51it/s]\n"
     ]
    }
   ],
   "source": [
    "image_path=\"data/test\"\n",
    "\n",
    "predictions,targets=NASNet_predict_diseases(NASNet_base,image_path)\n"
   ]
  },
  {
   "cell_type": "markdown",
   "metadata": {},
   "source": [
    "### Calcula a Acurácia "
   ]
  },
  {
   "cell_type": "code",
   "execution_count": null,
   "metadata": {},
   "outputs": [],
   "source": [
    "accuracy = 100*np.sum(np.array(predictions)==np.array(targets))/len(predictions)\n",
    "print('Acurácia no Conjunto de Testes: %.4f%%' % accuracy)"
   ]
  },
  {
   "cell_type": "markdown",
   "metadata": {},
   "source": [
    "### Mostra as Previsões de todas as Imagens do Diretório, Incluíndo suas Respectivas Classes Corretas"
   ]
  },
  {
   "cell_type": "code",
   "execution_count": null,
   "metadata": {},
   "outputs": [],
   "source": [
    "image_path=\"data/test\"\n",
    "image_path=image_path+\"/\"\n",
    "cont=0\n",
    "\n",
    "for dir_ in os.listdir(image_path):\n",
    "    for img in os.listdir(image_path+dir_):\n",
    "        full_path=image_path+dir_+\"/\"+img\n",
    "        photo = cv2.imread(full_path)\n",
    "        cv_rgb = cv2.cvtColor(photo, cv2.COLOR_BGR2RGB)\n",
    "        plt.imshow(cv_rgb)\n",
    "        title=full_path.split(\"/\")\n",
    "        title=title[-2]\n",
    "        title=title.replace(\"_\",\" \")\n",
    "        title=title.upper()\n",
    "        prediction=predictions[cont]\n",
    "        cont+=1\n",
    "        plt.title('Classe Correta = '+title)\n",
    "        plt.xlabel('Classe Prevista = '+prediction)\n",
    "        plt.show()\n",
    "    \n"
   ]
  },
  {
   "cell_type": "markdown",
   "metadata": {},
   "source": [
    "### Conclusão\n",
    "\n",
    "A CNN desenvolvida nesse projeto final de conclusão de curso alcançou uma acurácia de 77.8926% no conjunto de testes, resultado significativamente superior ao modelo de refêrencia que é de 71%, embora não tenha conseguido bons resultados na curva ROC e na matriz de confusão, conseguiu atingir bons resultados nas demais métricas de avaliação."
   ]
  }
 ],
 "metadata": {
  "anaconda-cloud": {},
  "kernelspec": {
   "display_name": "ITALO",
   "language": "python",
   "name": "italo"
  },
  "language_info": {
   "codemirror_mode": {
    "name": "ipython",
    "version": 3
   },
   "file_extension": ".py",
   "mimetype": "text/x-python",
   "name": "python",
   "nbconvert_exporter": "python",
   "pygments_lexer": "ipython3",
   "version": "3.6.6"
  }
 },
 "nbformat": 4,
 "nbformat_minor": 1
}
