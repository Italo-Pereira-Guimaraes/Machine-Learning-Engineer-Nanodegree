{
 "cells": [
  {
   "cell_type": "markdown",
   "metadata": {},
   "source": [
    "Python version 3.6.6"
   ]
  },
  {
   "cell_type": "markdown",
   "metadata": {},
   "source": [
    "# Machine Learning Engineer Nanodegree\n",
    "## Supervised Learning\n",
    "## Project: Finding Donors for *CharityML*\n",
    "\n",
    "# Engenheiro de Aprendizado de Máquina Nanodegree\n",
    "## Aprendizagem Supervisionada\n",
    "## Project: Encontrando Doadores para *CharityML*"
   ]
  },
  {
   "cell_type": "markdown",
   "metadata": {},
   "source": [
    "Welcome to the second project of the Machine Learning Engineer Nanodegree! In this notebook, some template code has already been provided for you, and it will be your job to implement the additional functionality necessary to successfully complete this project. Sections that begin with **'Implementation'** in the header indicate that the following block of code will require additional functionality which you must provide. Instructions will be provided for each section and the specifics of the implementation are marked in the code block with a `'TODO'` statement. Please be sure to read the instructions carefully!\n",
    "\n",
    "In addition to implementing code, there will be questions that you must answer which relate to the project and your implementation. Each section where you will answer a question is preceded by a **'Question X'** header. Carefully read each question and provide thorough answers in the following text boxes that begin with **'Answer:'**. Your project submission will be evaluated based on your answers to each of the questions and the implementation you provide.  \n",
    "\n",
    ">**Note:** Please specify WHICH VERSION OF PYTHON you are using when submitting this notebook. Code and Markdown cells can be executed using the **Shift + Enter** keyboard shortcut. In addition, Markdown cells can be edited by typically double-clicking the cell to enter edit mode.\n",
    "\n",
    "\n",
    "Bem-vindo ao segundo projeto do Nanodegree Engineer Machine Learning! Neste caderno, algum código modelo já foi fornecido para você, e será seu trabalho implementar a funcionalidade adicional necessária para concluir com êxito este projeto. As seções que começam com **'Implementação'** no cabeçalho indicam que o seguinte bloco de código exigirá uma funcionalidade adicional que você deve fornecer. Serão fornecidas instruções para cada seção e as especificidades da implementação serão marcadas no bloco de códigos com uma instrução `'TODO'`. Por favor, leia atentamente as instruções!\n",
    "\n",
    "Além de implementar o código, haverá perguntas que você deve responder relacionadas ao projeto e à sua implementação. Cada seção onde você responderá uma questão é precedida por um cabeçalho **'Question X'**. Leia atentamente cada pergunta e forneça respostas completas nas seguintes caixas de texto que começam com **'Resposta:'**. A submissão do seu projeto será avaliada com base nas suas respostas para cada uma das perguntas e na implementação que você fornecer.\n",
    "\n",
    "> **Nota:** Por favor, especifique QUANTA VERSÃO DE PYTHON você está usando ao enviar este caderno. As células Code e Markdown podem ser executadas usando o atalho de teclado **Shift + Enter**. Além disso, as células Markdown podem ser editadas clicando duas vezes na célula para entrar no modo de edição"
   ]
  },
  {
   "cell_type": "markdown",
   "metadata": {},
   "source": [
    "## Getting Started\n",
    "\n",
    "In this project, you will employ several supervised algorithms of your choice to accurately model individuals' income using data collected from the 1994 U.S. Census. You will then choose the best candidate algorithm from preliminary results and further optimize this algorithm to best model the data. Your goal with this implementation is to construct a model that accurately predicts whether an individual makes more than $50,000. This sort of task can arise in a non-profit setting, where organizations survive on donations.  Understanding an individual's income can help a non-profit better understand how large of a donation to request, or whether or not they should reach out to begin with.  While it can be difficult to determine an individual's general income bracket directly from public sources, we can (as we will see) infer this value from other publically available features. \n",
    "\n",
    "The dataset for this project originates from the [UCI Machine Learning Repository](https://archive.ics.uci.edu/ml/datasets/Census+Income). The datset was donated by Ron Kohavi and Barry Becker, after being published in the article _\"Scaling Up the Accuracy of Naive-Bayes Classifiers: A Decision-Tree Hybrid\"_. You can find the article by Ron Kohavi [online](https://www.aaai.org/Papers/KDD/1996/KDD96-033.pdf). The data we investigate here consists of small changes to the original dataset, such as removing the `'fnlwgt'` feature and records with missing or ill-formatted entries.\n",
    "\n",
    "## Começando\n",
    "\n",
    "Neste projeto, você empregará vários algoritmos supervisionados de sua escolha para modelar com precisão a renda dos indivíduos usando dados coletados do Censo de 1994 nos EUA. Você então escolherá o melhor algoritmo candidato a partir de resultados preliminares e otimizará ainda mais esse algoritmo para melhor modelar os dados. Seu objetivo com essa implementação é construir um modelo que prevê com precisão se um indivíduo ganha mais de US $ 50.000. Esse tipo de tarefa pode surgir em um ambiente sem fins lucrativos, onde as organizações sobrevivem com doações. Compreender a renda de um indivíduo pode ajudar uma organização sem fins lucrativos a entender melhor o tamanho de uma doação a ser solicitada ou se deve ou não entrar em contato. Embora possa ser difícil determinar a faixa de renda geral de um indivíduo diretamente de fontes públicas, podemos (como veremos) deduzir esse valor de outros recursos disponíveis publicamente.\n",
    "\n",
    "O conjunto de dados para este projeto é originário do [UCI Machine Learning Repository] (https://archive.ics.uci.edu/ml/datasets/Census+Income). O datset foi doado por Ron Kohavi e Barry Becker, após ser publicado no artigo _ \"Aumento da precisão dos classificadores Naive-Bayes: um híbrido de árvore de decisão\" _. Você pode encontrar o artigo de Ron Kohavi [online] (https://www.aaai.org/Papers/KDD/1996/KDD96-033.pdf). Os dados que investigamos aqui consistem em pequenas alterações no conjunto de dados original, como a remoção do recurso '' fnlwgt'` e registros com entradas ausentes ou mal formatadas.\n"
   ]
  },
  {
   "cell_type": "markdown",
   "metadata": {},
   "source": [
    "----\n",
    "## Exploring the Data\n",
    "Run the code cell below to load necessary Python libraries and load the census data. Note that the last column from this dataset, `'income'`, will be our target label (whether an individual makes more than, or at most, $50,000 annually). All other columns are features about each individual in the census database.\n",
    "\n",
    "## Explorando os dados\n",
    "Execute a célula de código abaixo para carregar as bibliotecas necessárias do Python e carregar os dados do censo. Observe que a última coluna deste conjunto de dados, '' income'`, será nosso rótulo de destino (se um indivíduo fizer mais do que, ou no máximo $ 50.000 por ano). Todas as outras colunas são características sobre cada indivíduo no banco de dados do censo.\n"
   ]
  },
  {
   "cell_type": "code",
   "execution_count": 1,
   "metadata": {},
   "outputs": [
    {
     "data": {
      "text/html": [
       "<div>\n",
       "<style scoped>\n",
       "    .dataframe tbody tr th:only-of-type {\n",
       "        vertical-align: middle;\n",
       "    }\n",
       "\n",
       "    .dataframe tbody tr th {\n",
       "        vertical-align: top;\n",
       "    }\n",
       "\n",
       "    .dataframe thead th {\n",
       "        text-align: right;\n",
       "    }\n",
       "</style>\n",
       "<table border=\"1\" class=\"dataframe\">\n",
       "  <thead>\n",
       "    <tr style=\"text-align: right;\">\n",
       "      <th></th>\n",
       "      <th>age</th>\n",
       "      <th>workclass</th>\n",
       "      <th>education_level</th>\n",
       "      <th>education-num</th>\n",
       "      <th>marital-status</th>\n",
       "      <th>occupation</th>\n",
       "      <th>relationship</th>\n",
       "      <th>race</th>\n",
       "      <th>sex</th>\n",
       "      <th>capital-gain</th>\n",
       "      <th>capital-loss</th>\n",
       "      <th>hours-per-week</th>\n",
       "      <th>native-country</th>\n",
       "      <th>income</th>\n",
       "    </tr>\n",
       "  </thead>\n",
       "  <tbody>\n",
       "    <tr>\n",
       "      <th>0</th>\n",
       "      <td>39</td>\n",
       "      <td>State-gov</td>\n",
       "      <td>Bachelors</td>\n",
       "      <td>13.0</td>\n",
       "      <td>Never-married</td>\n",
       "      <td>Adm-clerical</td>\n",
       "      <td>Not-in-family</td>\n",
       "      <td>White</td>\n",
       "      <td>Male</td>\n",
       "      <td>2174.0</td>\n",
       "      <td>0.0</td>\n",
       "      <td>40.0</td>\n",
       "      <td>United-States</td>\n",
       "      <td>&lt;=50K</td>\n",
       "    </tr>\n",
       "  </tbody>\n",
       "</table>\n",
       "</div>"
      ],
      "text/plain": [
       "   age   workclass education_level  education-num  marital-status  \\\n",
       "0   39   State-gov       Bachelors           13.0   Never-married   \n",
       "\n",
       "      occupation    relationship    race    sex  capital-gain  capital-loss  \\\n",
       "0   Adm-clerical   Not-in-family   White   Male        2174.0           0.0   \n",
       "\n",
       "   hours-per-week  native-country income  \n",
       "0            40.0   United-States  <=50K  "
      ]
     },
     "metadata": {},
     "output_type": "display_data"
    }
   ],
   "source": [
    "# Import libraries necessary for this project\n",
    "import numpy as np\n",
    "import pandas as pd\n",
    "from time import time\n",
    "from IPython.display import display # Allows the use of display() for DataFrames\n",
    "\n",
    "# Import supplementary visualization code visuals.py\n",
    "import visuals as vs\n",
    "\n",
    "# Pretty display for notebooks\n",
    "%matplotlib inline\n",
    "\n",
    "# Load the Census dataset\n",
    "data = pd.read_csv(\"census.csv\")\n",
    "\n",
    "# Success - Display the first record\n",
    "display(data.head(n=1))  "
   ]
  },
  {
   "cell_type": "markdown",
   "metadata": {},
   "source": [
    "### Implementation: Data Exploration\n",
    "A cursory investigation of the dataset will determine how many individuals fit into either group, and will tell us about the percentage of these individuals making more than \\$50,000. In the code cell below, you will need to compute the following:\n",
    "- The total number of records, `'n_records'`\n",
    "- The number of individuals making more than \\$50,000 annually, `'n_greater_50k'`.\n",
    "- The number of individuals making at most \\$50,000 annually, `'n_at_most_50k'`.\n",
    "- The percentage of individuals making more than \\$50,000 annually, `'greater_percent'`.\n",
    "\n",
    "**HINT:** You may need to look at the table above to understand how the `'income'` entries are formatted. \n",
    "\n",
    "### Implementação: Exploração de Dados\n",
    "Uma investigação superficial do conjunto de dados determinará quantas pessoas se encaixam em qualquer um dos grupos e nos informará sobre a porcentagem dessas pessoas que ganham mais que \\$50.000. Na célula de código abaixo, você precisará calcular o seguinte:\n",
    "- O número total de registros, `'n_records'`\n",
    "- O número de indivíduos que ganham mais que \\$50.000 por ano, `'n_greater_50k'`.\n",
    "- O número de indivíduos que ganham no máximo \\$50.000 por ano, `'n_at_most_50k'`.\n",
    "- A porcentagem de indivíduos ganhando mais que \\$50.000 por ano, `'greater_percent'`.\n",
    "\n",
    "**DICA:** Pode ser necessário consultar a tabela acima para entender como as entradas '' income'` são formatadas."
   ]
  },
  {
   "cell_type": "code",
   "execution_count": 2,
   "metadata": {},
   "outputs": [
    {
     "name": "stdout",
     "output_type": "stream",
     "text": [
      "Total number of records: 45222\n",
      "Individuals making more than $50,000: 11208\n",
      "Individuals making at most $50,000: 34014\n",
      "Percentage of individuals making more than $50,000: 24.78439697492371%\n"
     ]
    }
   ],
   "source": [
    "# TODO: Total number of records\n",
    "n_records = len(data)\n",
    "\n",
    "# TODO: Number of records where individual's income is more than $50,000\n",
    "n_greater_50k = len(data[data['income']=='>50K'])\n",
    "\n",
    "# TODO: Number of records where individual's income is at most $50,000\n",
    "n_at_most_50k = len(data[data['income']=='<=50K'])\n",
    "\n",
    "\n",
    "# TODO: Percentage of individuals whose income is more than $50,000\n",
    "greater_percent = n_greater_50k/n_records\n",
    "\n",
    "# Print the results\n",
    "print(\"Total number of records: {}\".format(n_records))\n",
    "print(\"Individuals making more than $50,000: {}\".format(n_greater_50k))\n",
    "print(\"Individuals making at most $50,000: {}\".format(n_at_most_50k))\n",
    "print(\"Percentage of individuals making more than $50,000: {}%\".format(100*greater_percent))"
   ]
  },
  {
   "cell_type": "markdown",
   "metadata": {},
   "source": [
    "**Featureset Exploration**\n",
    "\n",
    "* **age**: continuous. \n",
    "* **workclass**: Private, Self-emp-not-inc, Self-emp-inc, Federal-gov, Local-gov, State-gov, Without-pay, Never-worked. \n",
    "* **education**: Bachelors, Some-college, 11th, HS-grad, Prof-school, Assoc-acdm, Assoc-voc, 9th, 7th-8th, 12th, Masters, 1st-4th, 10th, Doctorate, 5th-6th, Preschool. \n",
    "* **education-num**: continuous. \n",
    "* **marital-status**: Married-civ-spouse, Divorced, Never-married, Separated, Widowed, Married-spouse-absent, Married-AF-spouse. \n",
    "* **occupation**: Tech-support, Craft-repair, Other-service, Sales, Exec-managerial, Prof-specialty, Handlers-cleaners, Machine-op-inspct, Adm-clerical, Farming-fishing, Transport-moving, Priv-house-serv, Protective-serv, Armed-Forces. \n",
    "* **relationship**: Wife, Own-child, Husband, Not-in-family, Other-relative, Unmarried. \n",
    "* **race**: Black, White, Asian-Pac-Islander, Amer-Indian-Eskimo, Other. \n",
    "* **sex**: Female, Male. \n",
    "* **capital-gain**: continuous. \n",
    "* **capital-loss**: continuous. \n",
    "* **hours-per-week**: continuous. \n",
    "* **native-country**: United-States, Cambodia, England, Puerto-Rico, Canada, Germany, Outlying-US(Guam-USVI-etc), India, Japan, Greece, South, China, Cuba, Iran, Honduras, Philippines, Italy, Poland, Jamaica, Vietnam, Mexico, Portugal, Ireland, France, Dominican-Republic, Laos, Ecuador, Taiwan, Haiti, Columbia, Hungary, Guatemala, Nicaragua, Scotland, Thailand, Yugoslavia, El-Salvador, Trinadad&Tobago, Peru, Hong, Holand-Netherlands.\n",
    "\n",
    "**Exploração de conjunto de recursos**\n",
    "\n",
    "* **idade**: contínua.\n",
    "* **classe de trabalho**: Privado, Auto-emp-não-inc, Auto-emp-inc, Governo federal, Local-governador, Estado-governador, Sem pagamento, Nunca trabalhado.\n",
    "* **educação**: Bacharelado, Alguma-faculdade, 11º, HS-grad, Prof.-escola, Assoc-acdm, Assoc-voc, 9º, 7º-8º, 12º, Mestrado, 1º-4º, 10º, Doutorado, 5º 6ª pré-escola.\n",
    "* **education-num**: contínuo.\n",
    "* **estado civil**: Casado-cônjuge, divorciado, nunca casado, separado, viúvo, casado-cônjuge-ausente, casado-AF-cônjuge.\n",
    "* **ocupação**: Suporte técnico, Conserto de Artesanato, Outros serviços, Vendas, Exec-gerencial, Prof-speciality, Manipuladores-limpadores, Máquina-op-inspct, Adm-clerical, Pesca agropecuária, Transporte em movimento , Priv-house-serv, Protetora-serv, Forças Armadas.\n",
    "* **Relacionamento**: Esposa, Filha Própria, Marido, Não-familiar, Outro-parente, Solteiro.\n",
    "* **Corrida**: Preto, Branco, Asiático-Pac-Islander, Amer-Indian-Eskimo, Outro.\n",
    "* **sexo**: Feminino, Masculino.\n",
    "* **ganho de capital**: contínuo.\n",
    "* **perda de capital**: contínua.\n",
    "* **horas por semana**: contínuo.\n",
    "* **país nativo**: Estados Unidos, Camboja, Inglaterra, Porto Rico, Canadá, Alemanha, EUA (Guam-USVI-etc), Índia, Japão, Grécia, Sul, China, Cuba, Irã, Honduras, Filipinas, Itália, Polônia, Jamaica, Vietnã, México, Portugal, Irlanda, França, República Dominicana, Laos, Equador, Taiwan, Haiti, Colômbia, Hungria, Guatemala, Nicarágua, Escócia, Tailândia, Iugoslávia, El-Salvador, Trinadad e Tobago, Peru, Hong, Holanda-Holanda."
   ]
  },
  {
   "cell_type": "markdown",
   "metadata": {},
   "source": [
    "----\n",
    "## Preparing the Data\n",
    "Before data can be used as input for machine learning algorithms, it often must be cleaned, formatted, and restructured — this is typically known as **preprocessing**. Fortunately, for this dataset, there are no invalid or missing entries we must deal with, however, there are some qualities about certain features that must be adjusted. This preprocessing can help tremendously with the outcome and predictive power of nearly all learning algorithms.\n",
    "\n",
    "## Preparando os dados\n",
    "Antes que os dados possam ser usados como entrada para algoritmos de aprendizado de máquina, eles geralmente precisam ser limpos, formatados e reestruturados - isso é normalmente conhecido como **pré-processamento**. Felizmente, para este conjunto de dados, não há entradas inválidas ou ausentes com as quais precisamos lidar, no entanto, há algumas qualidades sobre determinados recursos que devem ser ajustados. Esse pré-processamento pode ajudar tremendamente com o resultado e o poder preditivo de quase todos os algoritmos de aprendizado."
   ]
  },
  {
   "cell_type": "markdown",
   "metadata": {},
   "source": [
    "### Transforming Skewed Continuous Features\n",
    "A dataset may sometimes contain at least one feature whose values tend to lie near a single number, but will also have a non-trivial number of vastly larger or smaller values than that single number.  Algorithms can be sensitive to such distributions of values and can underperform if the range is not properly normalized. With the census dataset two features fit this description: '`capital-gain'` and `'capital-loss'`. \n",
    "\n",
    "Run the code cell below to plot a histogram of these two features. Note the range of the values present and how they are distributed.\n",
    "\n",
    "### Transformação de recursos contínuos enviesados\n",
    "Às vezes, um conjunto de dados pode conter pelo menos um recurso cujos valores tendem a ficar próximos a um único número, mas também terá um número não trivial de valores muito maiores ou menores do que esse número único. Algoritmos podem ser sensíveis a tais distribuições de valores e podem ter um desempenho inferior se o intervalo não for devidamente normalizado. Com o conjunto de dados do censo, duas características se encaixam nessa descrição: '`capital-ganho'` e`' capital-loss'`.\n",
    "\n",
    "Execute a célula de código abaixo para plotar um histograma desses dois recursos. Observe o intervalo dos valores presentes e como eles são distribuídos.\n"
   ]
  },
  {
   "cell_type": "code",
   "execution_count": 3,
   "metadata": {},
   "outputs": [
    {
     "name": "stderr",
     "output_type": "stream",
     "text": [
      "C:\\Users\\Italo\\Documents\\cursos\\IA\\machine learning programa nanodegree\\2 - Aprendizagem Supervisionada\\aula 8 Project 1 - Finding Donors for CharityML\\Project 1 - Finding Donors for CharityML\\visuals.py:48: UserWarning: Matplotlib is currently using module://ipykernel.pylab.backend_inline, which is a non-GUI backend, so cannot show the figure.\n",
      "  fig.show()\n"
     ]
    },
    {
     "data": {
      "image/png": "[encoded data removed]",
      "text/plain": [
       "<Figure size 792x360 with 2 Axes>"
      ]
     },
     "metadata": {
      "needs_background": "light"
     },
     "output_type": "display_data"
    }
   ],
   "source": [
    "# Split the data into features and target label\n",
    "income_raw = data['income']\n",
    "features_raw = data.drop('income', axis = 1)\n",
    "\n",
    "# Visualize skewed continuous features of original data\n",
    "# Visualize recursos contínuos distorcidos dos dados originais\n",
    "vs.distribution(data)"
   ]
  },
  {
   "cell_type": "markdown",
   "metadata": {},
   "source": [
    "For highly-skewed feature distributions such as `'capital-gain'` and `'capital-loss'`, it is common practice to apply a <a href=\"https://en.wikipedia.org/wiki/Data_transformation_(statistics)\">logarithmic transformation</a> on the data so that the very large and very small values do not negatively affect the performance of a learning algorithm. Using a logarithmic transformation significantly reduces the range of values caused by outliers. Care must be taken when applying this transformation however: The logarithm of `0` is undefined, so we must translate the values by a small amount above `0` to apply the the logarithm successfully.\n",
    "\n",
    "Run the code cell below to perform a transformation on the data and visualize the results. Again, note the range of values and how they are distributed. \n",
    "\n",
    "Para distribuições de características altamente distorcidas, como `'capital-ganho'` e `'capital-loss'`, é uma prática comum aplicar uma <a href =\" https://en.wikipedia.org/wiki/Data_transformation_ ( estatísticas) \"> transformação logarítmica </a> nos dados para que os valores muito grandes e muito pequenos não afetem negativamente o desempenho de um algoritmo de aprendizado. Usando uma transformação logarítmica reduz significativamente o intervalo de valores causados por outliers. Deve-se tomar cuidado ao aplicar esta transformação, no entanto: O logaritmo de `0` é indefinido, portanto devemos traduzir os valores por uma pequena quantidade acima de` 0` para aplicar o logaritmo com sucesso.\n",
    "\n",
    "Execute a célula de código abaixo para realizar uma transformação nos dados e visualizar os resultados. Novamente, observe o intervalo de valores e como eles são distribuídos."
   ]
  },
  {
   "cell_type": "code",
   "execution_count": 4,
   "metadata": {},
   "outputs": [
    {
     "data": {
      "image/png": "[encoded data removed]",
      "text/plain": [
       "<Figure size 792x360 with 2 Axes>"
      ]
     },
     "metadata": {
      "needs_background": "light"
     },
     "output_type": "display_data"
    }
   ],
   "source": [
    "# Log-transform the skewed features\n",
    "# Log-transformar os recursos distorcidos\n",
    "skewed = ['capital-gain', 'capital-loss']\n",
    "features_log_transformed = pd.DataFrame(data = features_raw)\n",
    "features_log_transformed[skewed] = features_raw[skewed].apply(lambda x: np.log(x + 1))\n",
    "# Visualize as novas distribuições de log\n",
    "# Visualize the new log distributions\n",
    "vs.distribution(features_log_transformed, transformed = True)\n",
    "\n"
   ]
  },
  {
   "cell_type": "markdown",
   "metadata": {},
   "source": [
    "### Normalizing Numerical Features\n",
    "In addition to performing transformations on features that are highly skewed, it is often good practice to perform some type of scaling on numerical features. Applying a scaling to the data does not change the shape of each feature's distribution (such as `'capital-gain'` or `'capital-loss'` above); however, normalization ensures that each feature is treated equally when applying supervised learners. Note that once scaling is applied, observing the data in its raw form will no longer have the same original meaning, as exampled below.\n",
    "\n",
    "Run the code cell below to normalize each numerical feature. We will use [`sklearn.preprocessing.MinMaxScaler`](http://scikit-learn.org/stable/modules/generated/sklearn.preprocessing.MinMaxScaler.html) for this.\n",
    "\n",
    "\n",
    "### Normalizando recursos numéricos\n",
    "Além de realizar transformações em recursos altamente distorcidos, geralmente é recomendável realizar algum tipo de dimensionamento em recursos numéricos. A aplicação de um escalonamento aos dados não altera a forma da distribuição de cada característica (como '' capital-gain'` ou `'capital-loss'` acima); no entanto, a normalização garante que cada recurso seja tratado igualmente ao aplicar alunos supervisionados. Observe que, uma vez aplicado o dimensionamento, a observação dos dados em sua forma bruta não terá mais o mesmo significado original, conforme demonstrado abaixo.\n",
    "\n",
    "Execute a célula de código abaixo para normalizar cada recurso numérico. Usaremos [`sklearn.preprocessing.MinMaxScaler`] (http://scikit-learn.org/stable/modules/generated/sklearn.preprocessing.MinMaxScaler.html) para isso.\n"
   ]
  },
  {
   "cell_type": "code",
   "execution_count": 5,
   "metadata": {},
   "outputs": [
    {
     "name": "stderr",
     "output_type": "stream",
     "text": [
      "C:\\Users\\Italo\\Anaconda3\\envs\\ITALO\\lib\\site-packages\\sklearn\\preprocessing\\data.py:323: DataConversionWarning: Data with input dtype int64, float64 were all converted to float64 by MinMaxScaler.\n",
      "  return self.partial_fit(X, y)\n"
     ]
    },
    {
     "data": {
      "text/html": [
       "<div>\n",
       "<style scoped>\n",
       "    .dataframe tbody tr th:only-of-type {\n",
       "        vertical-align: middle;\n",
       "    }\n",
       "\n",
       "    .dataframe tbody tr th {\n",
       "        vertical-align: top;\n",
       "    }\n",
       "\n",
       "    .dataframe thead th {\n",
       "        text-align: right;\n",
       "    }\n",
       "</style>\n",
       "<table border=\"1\" class=\"dataframe\">\n",
       "  <thead>\n",
       "    <tr style=\"text-align: right;\">\n",
       "      <th></th>\n",
       "      <th>age</th>\n",
       "      <th>workclass</th>\n",
       "      <th>education_level</th>\n",
       "      <th>education-num</th>\n",
       "      <th>marital-status</th>\n",
       "      <th>occupation</th>\n",
       "      <th>relationship</th>\n",
       "      <th>race</th>\n",
       "      <th>sex</th>\n",
       "      <th>capital-gain</th>\n",
       "      <th>capital-loss</th>\n",
       "      <th>hours-per-week</th>\n",
       "      <th>native-country</th>\n",
       "    </tr>\n",
       "  </thead>\n",
       "  <tbody>\n",
       "    <tr>\n",
       "      <th>0</th>\n",
       "      <td>0.301370</td>\n",
       "      <td>State-gov</td>\n",
       "      <td>Bachelors</td>\n",
       "      <td>0.800000</td>\n",
       "      <td>Never-married</td>\n",
       "      <td>Adm-clerical</td>\n",
       "      <td>Not-in-family</td>\n",
       "      <td>White</td>\n",
       "      <td>Male</td>\n",
       "      <td>0.667492</td>\n",
       "      <td>0.0</td>\n",
       "      <td>0.397959</td>\n",
       "      <td>United-States</td>\n",
       "    </tr>\n",
       "    <tr>\n",
       "      <th>1</th>\n",
       "      <td>0.452055</td>\n",
       "      <td>Self-emp-not-inc</td>\n",
       "      <td>Bachelors</td>\n",
       "      <td>0.800000</td>\n",
       "      <td>Married-civ-spouse</td>\n",
       "      <td>Exec-managerial</td>\n",
       "      <td>Husband</td>\n",
       "      <td>White</td>\n",
       "      <td>Male</td>\n",
       "      <td>0.000000</td>\n",
       "      <td>0.0</td>\n",
       "      <td>0.122449</td>\n",
       "      <td>United-States</td>\n",
       "    </tr>\n",
       "    <tr>\n",
       "      <th>2</th>\n",
       "      <td>0.287671</td>\n",
       "      <td>Private</td>\n",
       "      <td>HS-grad</td>\n",
       "      <td>0.533333</td>\n",
       "      <td>Divorced</td>\n",
       "      <td>Handlers-cleaners</td>\n",
       "      <td>Not-in-family</td>\n",
       "      <td>White</td>\n",
       "      <td>Male</td>\n",
       "      <td>0.000000</td>\n",
       "      <td>0.0</td>\n",
       "      <td>0.397959</td>\n",
       "      <td>United-States</td>\n",
       "    </tr>\n",
       "    <tr>\n",
       "      <th>3</th>\n",
       "      <td>0.493151</td>\n",
       "      <td>Private</td>\n",
       "      <td>11th</td>\n",
       "      <td>0.400000</td>\n",
       "      <td>Married-civ-spouse</td>\n",
       "      <td>Handlers-cleaners</td>\n",
       "      <td>Husband</td>\n",
       "      <td>Black</td>\n",
       "      <td>Male</td>\n",
       "      <td>0.000000</td>\n",
       "      <td>0.0</td>\n",
       "      <td>0.397959</td>\n",
       "      <td>United-States</td>\n",
       "    </tr>\n",
       "    <tr>\n",
       "      <th>4</th>\n",
       "      <td>0.150685</td>\n",
       "      <td>Private</td>\n",
       "      <td>Bachelors</td>\n",
       "      <td>0.800000</td>\n",
       "      <td>Married-civ-spouse</td>\n",
       "      <td>Prof-specialty</td>\n",
       "      <td>Wife</td>\n",
       "      <td>Black</td>\n",
       "      <td>Female</td>\n",
       "      <td>0.000000</td>\n",
       "      <td>0.0</td>\n",
       "      <td>0.397959</td>\n",
       "      <td>Cuba</td>\n",
       "    </tr>\n",
       "  </tbody>\n",
       "</table>\n",
       "</div>"
      ],
      "text/plain": [
       "        age          workclass education_level  education-num  \\\n",
       "0  0.301370          State-gov       Bachelors       0.800000   \n",
       "1  0.452055   Self-emp-not-inc       Bachelors       0.800000   \n",
       "2  0.287671            Private         HS-grad       0.533333   \n",
       "3  0.493151            Private            11th       0.400000   \n",
       "4  0.150685            Private       Bachelors       0.800000   \n",
       "\n",
       "        marital-status          occupation    relationship    race      sex  \\\n",
       "0        Never-married        Adm-clerical   Not-in-family   White     Male   \n",
       "1   Married-civ-spouse     Exec-managerial         Husband   White     Male   \n",
       "2             Divorced   Handlers-cleaners   Not-in-family   White     Male   \n",
       "3   Married-civ-spouse   Handlers-cleaners         Husband   Black     Male   \n",
       "4   Married-civ-spouse      Prof-specialty            Wife   Black   Female   \n",
       "\n",
       "   capital-gain  capital-loss  hours-per-week  native-country  \n",
       "0      0.667492           0.0        0.397959   United-States  \n",
       "1      0.000000           0.0        0.122449   United-States  \n",
       "2      0.000000           0.0        0.397959   United-States  \n",
       "3      0.000000           0.0        0.397959   United-States  \n",
       "4      0.000000           0.0        0.397959            Cuba  "
      ]
     },
     "metadata": {},
     "output_type": "display_data"
    },
    {
     "data": {
      "text/plain": [
       "\"\\n# Import sklearn.preprocessing.StandardScaler\\nde sklearn.preprocessing import MinMaxScaler\\n\\n# Inicialize um scaler e aplique-o aos recursos\\nscaler = MinMaxScaler () # default = (0, 1)\\nnumerical = ['age', 'education-num', 'ganho de capital', 'perda de capital', 'horas por semana']\\n\\nfeatures_log_minmax_transform = pd.DataFrame (data = features_log_transformed)\\nfeatures_log_minmax_transform [numérico] = scaler.fit_transform (features_log_transformed [numerical])\\n\\n# Mostrar um exemplo de um registro com dimensionamento aplicado\\ndisplay (features_log_minmax_transform.head (n = 5))\\n\""
      ]
     },
     "execution_count": 5,
     "metadata": {},
     "output_type": "execute_result"
    }
   ],
   "source": [
    "# Import sklearn.preprocessing.StandardScaler\n",
    "from sklearn.preprocessing import MinMaxScaler\n",
    "\n",
    "# Initialize a scaler, then apply it to the features\n",
    "scaler = MinMaxScaler() # default=(0, 1)\n",
    "numerical = ['age', 'education-num', 'capital-gain', 'capital-loss', 'hours-per-week']\n",
    "\n",
    "features_log_minmax_transform = pd.DataFrame(data = features_log_transformed)\n",
    "features_log_minmax_transform[numerical] = scaler.fit_transform(features_log_transformed[numerical])\n",
    "\n",
    "# Show an example of a record with scaling applied\n",
    "display(features_log_minmax_transform.head(n = 5))\n",
    "\n",
    "\"\"\"\n",
    "# Import sklearn.preprocessing.StandardScaler\n",
    "de sklearn.preprocessing import MinMaxScaler\n",
    "\n",
    "# Inicialize um scaler e aplique-o aos recursos\n",
    "scaler = MinMaxScaler () # default = (0, 1)\n",
    "numerical = ['age', 'education-num', 'ganho de capital', 'perda de capital', 'horas por semana']\n",
    "\n",
    "features_log_minmax_transform = pd.DataFrame (data = features_log_transformed)\n",
    "features_log_minmax_transform [numérico] = scaler.fit_transform (features_log_transformed [numerical])\n",
    "\n",
    "# Mostrar um exemplo de um registro com dimensionamento aplicado\n",
    "display (features_log_minmax_transform.head (n = 5))\n",
    "\"\"\""
   ]
  },
  {
   "cell_type": "markdown",
   "metadata": {},
   "source": [
    "### Implementation: Data Preprocessing\n",
    "\n",
    "From the table in **Exploring the Data** above, we can see there are several features for each record that are non-numeric. Typically, learning algorithms expect input to be numeric, which requires that non-numeric features (called *categorical variables*) be converted. One popular way to convert categorical variables is by using the **one-hot encoding** scheme. One-hot encoding creates a _\"dummy\"_ variable for each possible category of each non-numeric feature. For example, assume `someFeature` has three possible entries: `A`, `B`, or `C`. We then encode this feature into `someFeature_A`, `someFeature_B` and `someFeature_C`.\n",
    "\n",
    "|   | someFeature |                    | someFeature_A | someFeature_B | someFeature_C |\n",
    "| :-: | :-: |                            | :-: | :-: | :-: |\n",
    "| 0 |  B  |  | 0 | 1 | 0 |\n",
    "| 1 |  C  | ----> one-hot encode ----> | 0 | 0 | 1 |\n",
    "| 2 |  A  |  | 1 | 0 | 0 |\n",
    "\n",
    "Additionally, as with the non-numeric features, we need to convert the non-numeric target label, `'income'` to numerical values for the learning algorithm to work. Since there are only two possible categories for this label (\"<=50K\" and \">50K\"), we can avoid using one-hot encoding and simply encode these two categories as `0` and `1`, respectively. In code cell below, you will need to implement the following:\n",
    " - Use [`pandas.get_dummies()`](http://pandas.pydata.org/pandas-docs/stable/generated/pandas.get_dummies.html?highlight=get_dummies#pandas.get_dummies) to perform one-hot encoding on the `'features_log_minmax_transform'` data.\n",
    " - Convert the target label `'income_raw'` to numerical entries.\n",
    "   - Set records with \"<=50K\" to `0` and records with \">50K\" to `1`.\n",
    "   \n",
    "### Implementação: pré-processamento de dados\n",
    "\n",
    "Na tabela em **Explorando os dados** acima, podemos ver que há vários recursos para cada registro que não são numéricos. Geralmente, os algoritmos de aprendizado esperam que a entrada seja numérica, o que requer que recursos não numéricos (chamados *variáveis ​​categóricas*) sejam convertidos. Uma maneira popular de converter variáveis ​​categóricas é usando o esquema **codificação de uma só vez**. Uma codificação quente cria uma variável _ \"fictícia\" para cada categoria possível de cada recurso não numérico. Por exemplo, suponha que `someFeature` possua três entradas possíveis:` A`, `B` ou` C`. Em seguida, codificamos esse recurso em `someFeature_A`,` someFeature_B` e `someFeature_C`.\n",
    "\n",
    "| | someFeature | | someFeature_A | someFeature_B | someFeature_C |\n",
    "| : -: | : -: | | : -: | : -: | : -: |\n",
    "| 0 | B | | 0 | 1 | 0 |\n",
    "| 1 | C | ----> codificação one-hot ----> | 0 | 0 | 1 |\n",
    "| 2 | A | | 1 | 0 | 0 |\n",
    "\n",
    "Além disso, como acontece com os recursos não numéricos, precisamos converter o rótulo de destino não numérico, '' income'`, em valores numéricos para que o algoritmo de aprendizado funcione. Como existem apenas duas categorias possíveis para este rótulo (\"<= 50K\" e \"> 50K\"), podemos evitar o uso de uma codificação hot e simplesmente codificar essas duas categorias como `0` e` 1`, respectivamente. Na célula de código abaixo, você precisará implementar o seguinte:\n",
    " - Use [`pandas.get_dummies ()`] (http://pandas.pydata.org/pandas-docs/stable/generated/pandas.get_dummies.html?highlight=get_dummies#pandas.get_dummies) para executar uma codificação a quente nos dados `'features_log_minmax_transform'`.\n",
    " - Converte o rótulo de destino `'income_raw'` para entradas numéricas.\n",
    "   - Defina registros com \"<= 50K\" para \"0\" e grave com \"> 50K\" para \"1\"."
   ]
  },
  {
   "cell_type": "code",
   "execution_count": 6,
   "metadata": {
    "scrolled": true
   },
   "outputs": [
    {
     "name": "stdout",
     "output_type": "stream",
     "text": [
      "103 total features after one-hot encoding.\n",
      "['age', 'education-num', 'capital-gain', 'capital-loss', 'hours-per-week', 'workclass_ Federal-gov', 'workclass_ Local-gov', 'workclass_ Private', 'workclass_ Self-emp-inc', 'workclass_ Self-emp-not-inc', 'workclass_ State-gov', 'workclass_ Without-pay', 'education_level_ 10th', 'education_level_ 11th', 'education_level_ 12th', 'education_level_ 1st-4th', 'education_level_ 5th-6th', 'education_level_ 7th-8th', 'education_level_ 9th', 'education_level_ Assoc-acdm', 'education_level_ Assoc-voc', 'education_level_ Bachelors', 'education_level_ Doctorate', 'education_level_ HS-grad', 'education_level_ Masters', 'education_level_ Preschool', 'education_level_ Prof-school', 'education_level_ Some-college', 'marital-status_ Divorced', 'marital-status_ Married-AF-spouse', 'marital-status_ Married-civ-spouse', 'marital-status_ Married-spouse-absent', 'marital-status_ Never-married', 'marital-status_ Separated', 'marital-status_ Widowed', 'occupation_ Adm-clerical', 'occupation_ Armed-Forces', 'occupation_ Craft-repair', 'occupation_ Exec-managerial', 'occupation_ Farming-fishing', 'occupation_ Handlers-cleaners', 'occupation_ Machine-op-inspct', 'occupation_ Other-service', 'occupation_ Priv-house-serv', 'occupation_ Prof-specialty', 'occupation_ Protective-serv', 'occupation_ Sales', 'occupation_ Tech-support', 'occupation_ Transport-moving', 'relationship_ Husband', 'relationship_ Not-in-family', 'relationship_ Other-relative', 'relationship_ Own-child', 'relationship_ Unmarried', 'relationship_ Wife', 'race_ Amer-Indian-Eskimo', 'race_ Asian-Pac-Islander', 'race_ Black', 'race_ Other', 'race_ White', 'sex_ Female', 'sex_ Male', 'native-country_ Cambodia', 'native-country_ Canada', 'native-country_ China', 'native-country_ Columbia', 'native-country_ Cuba', 'native-country_ Dominican-Republic', 'native-country_ Ecuador', 'native-country_ El-Salvador', 'native-country_ England', 'native-country_ France', 'native-country_ Germany', 'native-country_ Greece', 'native-country_ Guatemala', 'native-country_ Haiti', 'native-country_ Holand-Netherlands', 'native-country_ Honduras', 'native-country_ Hong', 'native-country_ Hungary', 'native-country_ India', 'native-country_ Iran', 'native-country_ Ireland', 'native-country_ Italy', 'native-country_ Jamaica', 'native-country_ Japan', 'native-country_ Laos', 'native-country_ Mexico', 'native-country_ Nicaragua', 'native-country_ Outlying-US(Guam-USVI-etc)', 'native-country_ Peru', 'native-country_ Philippines', 'native-country_ Poland', 'native-country_ Portugal', 'native-country_ Puerto-Rico', 'native-country_ Scotland', 'native-country_ South', 'native-country_ Taiwan', 'native-country_ Thailand', 'native-country_ Trinadad&Tobago', 'native-country_ United-States', 'native-country_ Vietnam', 'native-country_ Yugoslavia']\n"
     ]
    },
    {
     "name": "stderr",
     "output_type": "stream",
     "text": [
      "C:\\Users\\Italo\\Anaconda3\\envs\\ITALO\\lib\\site-packages\\ipykernel_launcher.py:6: SettingWithCopyWarning: \n",
      "A value is trying to be set on a copy of a slice from a DataFrame\n",
      "\n",
      "See the caveats in the documentation: http://pandas.pydata.org/pandas-docs/stable/indexing.html#indexing-view-versus-copy\n",
      "  \n",
      "C:\\Users\\Italo\\Anaconda3\\envs\\ITALO\\lib\\site-packages\\ipykernel_launcher.py:7: SettingWithCopyWarning: \n",
      "A value is trying to be set on a copy of a slice from a DataFrame\n",
      "\n",
      "See the caveats in the documentation: http://pandas.pydata.org/pandas-docs/stable/indexing.html#indexing-view-versus-copy\n",
      "  import sys\n"
     ]
    },
    {
     "data": {
      "text/plain": [
       "'\\n# TODO: Um-quente codifica os dados \\'features_log_minmax_transform\\' usando pandas.get_dummies ()\\nfeatures_final = nenhum\\n\\n# TODO: Codifique os dados \\'income_raw\\' para valores numéricos\\nrenda = nenhuma\\n\\n# Imprima o número de recursos após uma codificação a quente\\ncodificado = list (features_final.columns)\\nprint (\"{} total de recursos após uma codificação quente.\" format (len (codificado)))\\n\\n# Descomente a seguinte linha para ver os nomes dos recursos codificados\\n# print codificado\\n'"
      ]
     },
     "execution_count": 6,
     "metadata": {},
     "output_type": "execute_result"
    }
   ],
   "source": [
    "# TODO: One-hot encode the 'features_log_minmax_transform' data using pandas.get_dummies()\n",
    "features_final = pd.get_dummies(features_log_minmax_transform)\n",
    "\n",
    "# TODO: Encode the 'income_raw' data to numerical values\n",
    "income = income_raw\n",
    "income[income=='<=50K']=0\n",
    "income[income=='>50K']=1\n",
    "#income = pd.get_dummies(income_raw)\n",
    "\n",
    "# Print the number of features after one-hot encoding\n",
    "encoded = list(features_final.columns)\n",
    "print(\"{} total features after one-hot encoding.\".format(len(encoded)))\n",
    "\n",
    "# Uncomment the following line to see the encoded feature names\n",
    "print(encoded)\n",
    "\"\"\"\n",
    "# TODO: Um-quente codifica os dados 'features_log_minmax_transform' usando pandas.get_dummies ()\n",
    "features_final = nenhum\n",
    "\n",
    "# TODO: Codifique os dados 'income_raw' para valores numéricos\n",
    "renda = nenhuma\n",
    "\n",
    "# Imprima o número de recursos após uma codificação a quente\n",
    "codificado = list (features_final.columns)\n",
    "print (\"{} total de recursos após uma codificação quente.\" format (len (codificado)))\n",
    "\n",
    "# Descomente a seguinte linha para ver os nomes dos recursos codificados\n",
    "# print codificado\n",
    "\"\"\""
   ]
  },
  {
   "cell_type": "markdown",
   "metadata": {},
   "source": [
    "### Shuffle and Split Data\n",
    "Now all _categorical variables_ have been converted into numerical features, and all numerical features have been normalized. As always, we will now split the data (both features and their labels) into training and test sets. 80% of the data will be used for training and 20% for testing.\n",
    "\n",
    "Run the code cell below to perform this split.\n",
    "\n",
    "### Embaralhar e Dividir os Dados\n",
    "Agora, todas as variáveis _categoricas_ foram convertidas em recursos numéricos e todos os recursos numéricos foram normalizados. Como sempre, agora dividiremos os dados (recursos e rótulos) em conjuntos de treinamento e teste. 80% dos dados serão usados para treinamento e 20% para testes.\n",
    "\n",
    "Execute a célula de código abaixo para realizar esta divisão.\n"
   ]
  },
  {
   "cell_type": "code",
   "execution_count": 7,
   "metadata": {},
   "outputs": [
    {
     "name": "stdout",
     "output_type": "stream",
     "text": [
      "Training set has 36177 samples.\n",
      "Testing set has 9045 samples.\n"
     ]
    }
   ],
   "source": [
    "# Import train_test_split\n",
    "from sklearn.model_selection import train_test_split\n",
    "\n",
    "# Split the 'features' and 'income' data into training and testing sets\n",
    "X_train, X_test, y_train, y_test = train_test_split(features_final, \n",
    "                                                    income, \n",
    "                                                    test_size = 0.2, \n",
    "                                                    random_state = 0)\n",
    "\n",
    "X_train=X_train.astype('int') \n",
    "y_train=y_train.astype('int') \n",
    "X_test=X_test.astype('int') \n",
    "y_test=y_test.astype('int') \n",
    "# Show the results of the split\n",
    "print(\"Training set has {} samples.\".format(X_train.shape[0]))\n",
    "print(\"Testing set has {} samples.\".format(X_test.shape[0]))"
   ]
  },
  {
   "cell_type": "markdown",
   "metadata": {},
   "source": [
    "----\n",
    "## Evaluating Model Performance\n",
    "In this section, we will investigate four different algorithms, and determine which is best at modeling the data. Three of these algorithms will be supervised learners of your choice, and the fourth algorithm is known as a *naive predictor*.\n",
    "\n",
    "----\n",
    "## Avaliando o Desempenho do Modelo\n",
    "Nesta seção, investigaremos quatro algoritmos diferentes e determinaremos qual é a melhor modelagem dos dados. Três desses algoritmos serão aprendizes supervisionados de sua escolha, e o quarto algoritmo é conhecido como *preditor* ingênuo."
   ]
  },
  {
   "cell_type": "markdown",
   "metadata": {},
   "source": [
    "### Metrics and the Naive Predictor\n",
    "*CharityML*, equipped with their research, knows individuals that make more than \\$50,000 are most likely to donate to their charity. Because of this, *CharityML* is particularly interested in predicting who makes more than \\$50,000 accurately. It would seem that using **accuracy** as a metric for evaluating a particular model's performace would be appropriate. Additionally, identifying someone that *does not* make more than \\$50,000 as someone who does would be detrimental to *CharityML*, since they are looking to find individuals willing to donate. Therefore, a model's ability to precisely predict those that make more than \\$50,000 is *more important* than the model's ability to **recall** those individuals. We can use **F-beta score** as a metric that considers both precision and recall:\n",
    "\n",
    "$$ F_{\\beta} = (1 + \\beta^2) \\cdot \\frac{precision \\cdot recall}{\\left( \\beta^2 \\cdot precision \\right) + recall} $$\n",
    "\n",
    "In particular, when $\\beta = 0.5$, more emphasis is placed on precision. This is called the **F$_{0.5}$ score** (or F-score for simplicity).\n",
    "\n",
    "Looking at the distribution of classes (those who make at most \\$50,000, and those who make more), it's clear most individuals do not make more than \\$50,000. This can greatly affect **accuracy**, since we could simply say *\"this person does not make more than \\$50,000\"* and generally be right, without ever looking at the data! Making such a statement would be called **naive**, since we have not considered any information to substantiate the claim. It is always important to consider the *naive prediction* for your data, to help establish a benchmark for whether a model is performing well. That been said, using that prediction would be pointless: If we predicted all people made less than \\$50,000, *CharityML* would identify no one as donors. \n",
    "\n",
    "\n",
    "#### Note: Recap of accuracy, precision, recall\n",
    "\n",
    "**Accuracy** measures how often the classifier makes the correct prediction. It’s the ratio of the number of correct predictions to the total number of predictions (the number of test data points).\n",
    "\n",
    "**Precision** tells us what proportion of messages we classified as spam, actually were spam.\n",
    "It is a ratio of true positives(words classified as spam, and which are actually spam) to all positives(all words classified as spam, irrespective of whether that was the correct classificatio), in other words it is the ratio of\n",
    "\n",
    "`[True Positives/(True Positives + False Positives)]`\n",
    "\n",
    "**Recall(sensitivity)** tells us what proportion of messages that actually were spam were classified by us as spam.\n",
    "It is a ratio of true positives(words classified as spam, and which are actually spam) to all the words that were actually spam, in other words it is the ratio of\n",
    "\n",
    "`[True Positives/(True Positives + False Negatives)]`\n",
    "\n",
    "For classification problems that are skewed in their classification distributions like in our case, for example if we had a 100 text messages and only 2 were spam and the rest 98 weren't, accuracy by itself is not a very good metric. We could classify 90 messages as not spam(including the 2 that were spam but we classify them as not spam, hence they would be false negatives) and 10 as spam(all 10 false positives) and still get a reasonably good accuracy score. For such cases, precision and recall come in very handy. These two metrics can be combined to get the F1 score, which is weighted average(harmonic mean) of the precision and recall scores. This score can range from 0 to 1, with 1 being the best possible F1 score(we take the harmonic mean as we are dealing with ratios).\n",
    "\n",
    "### Métricas e o Predictor Naive\n",
    "*A CharityML*, equipada com suas pesquisas, sabe que indivíduos que ganham mais de \\$ 50.000 são mais propensos a doar para sua instituição de caridade. Por causa disso, *CharityML* está particularmente interessado em prever quem faz mais de \\$50.000 com precisão. Parece que usar a **precisão** como uma métrica para avaliar a performance de um modelo em particular seria apropriado. Além disso, identificar alguém que *não* ganha mais do que \\$50.000 como alguém que o faria seria prejudicial para *CharityML*, já que eles estão procurando pessoas dispostas a doar. Portanto, a capacidade de um modelo prever com precisão aqueles que ganham mais de $ 50.000 é *mais importante* do que a capacidade do modelo de **lembrar** esses indivíduos. Podemos usar o **F-beta score** como uma métrica que considera a precisão e a recordação:\n",
    "\n",
    "$$ F_{\\beta} = (1 + \\beta^2) \\cdot \\frac{precision \\cdot recall}{\\left( \\beta^2 \\cdot precision \\right) + recall} $$\n",
    "\n",
    "Em particular, quando $\\beta = 0.5$, mais ênfase é dada à precisão. Isso é chamado de **F$_{0,5}$score**(ou F-score para simplificar).\n",
    "\n",
    "Olhando para a distribuição de classes (aqueles que ganham no máximo \\$50.000 e aqueles que ganham mais), fica claro que a maioria das pessoas não ganha mais do que \\$50.000. Isso pode afetar muito a **precisão**, já que poderíamos simplesmente dizer *\"essa pessoa não ganha mais que \\$50.000\"* e, em geral, estar certa, sem nunca olhar para os dados! Fazer tal declaração seria chamado de **ingênuo**, uma vez que não consideramos nenhuma informação para fundamentar a reivindicação. É sempre importante considerar a *previsão ingênua* para seus dados, para ajudar a estabelecer uma referência para o desempenho adequado de um modelo. Isso foi dito, usar essa previsão seria inútil: se prevíssemos que todas as pessoas ganhassem menos que \\$50.000, *a CharityML* não identificaria ninguém como doadores.\n",
    "\n",
    "\n",
    "#### Nota: Recapitulação de exatidão, precisão, recordação\n",
    "\n",
    "**Acurácia** mede com que frequência o classificador faz a previsão correta. É a proporção entre o número de previsões corretas e o número total de previsões (o número de pontos de dados de teste).\n",
    "\n",
    "**Precisão** nos diz qual a proporção de mensagens que classificamos como spam, na verdade, eram spam.\n",
    "É uma proporção de verdadeiros positivos (palavras classificadas como spam, e que são, na verdade, spam) para todos os positivos (todas as palavras classificadas como spam, independentemente de essa ser a classificação correta), em outras palavras, é a razão entre\n",
    "\n",
    "`[Verdadeiro Positivo / (Verdadeiro Positivo + Falso Positivo)]`\n",
    "\n",
    "**Recall(sensibilidade)** nos diz qual a proporção de mensagens que realmente eram spam foram classificados por nós como spam.\n",
    "É uma proporção de verdadeiros positivos (palavras classificadas como spam e que são, na verdade, spam) para todas as palavras que eram realmente spam, em outras palavras, é a razão entre\n",
    "\n",
    "`[Verdadeiro Positivo / (Verdadeiro Positivo + Falso Negativo)]`\n",
    "\n",
    "Para problemas de classificação que são distorcidos em suas distribuições de classificação, como em nosso caso, por exemplo, se tivéssemos 100 mensagens de texto e apenas 2 fossem spam e o restante 98 não, a precisão por si só não é uma métrica muito boa. Poderíamos classificar 90 mensagens como não spam (incluindo as 2 que eram spam, mas classificá-las como não spam, portanto, seriam falsos negativos) e 10 como spam (todos os 10 falsos positivos) e ainda obter uma pontuação de precisão razoavelmente boa. Para tais casos, a precisão e o recall são muito úteis. Essas duas métricas podem ser combinadas para obter a pontuação F1, que é a média ponderada (média harmônica) dos escores de precisão e recordação. Esta pontuação pode variar de 0 a 1, sendo 1 a melhor pontuação possível na F1 (tomamos a média harmônica, pois estamos lidando com proporções)."
   ]
  },
  {
   "cell_type": "markdown",
   "metadata": {},
   "source": [
    "### Question 1 - Naive Predictor Performace\n",
    "* If we chose a model that always predicted an individual made more than $50,000, what would  that model's accuracy and F-score be on this dataset? You must use the code cell below and assign your results to `'accuracy'` and `'fscore'` to be used later.\n",
    "\n",
    "**Please note** that the the purpose of generating a naive predictor is simply to show what a base model without any intelligence would look like. In the real world, ideally your base model would be either the results of a previous model or could be based on a research paper upon which you are looking to improve. When there is no benchmark model set, getting a result better than random choice is a place you could start from.\n",
    "\n",
    "**HINT:** \n",
    "\n",
    "*When we have a model that always predicts '1' (i.e. the individual makes more than 50k) then our model will have no True Negatives(TN) or False Negatives(FN) as we are not making any negative('0' value) predictions. Therefore our Accuracy in this case becomes the same as our Precision(True Positives/(True Positives + False Positives)) as every prediction that we have made with value '1' that should have '0' becomes a False Positive; therefore our denominator in this case is the total number of records we have in total.* \n",
    "Our Recall score(True Positives/(True Positives + False Negatives)) in this setting becomes 1 as we have no False Negatives.\n",
    "\n",
    "### Question 1 - Naive Predictor Performace\n",
    "*Se escolhermos um modelo que sempre previu que um indivíduo fez mais de US $ 50.000, qual seria a precisão e o F-score desse modelo neste conjunto de dados? Você deve usar a célula de código abaixo e atribuir seus resultados a `'accuracy'` e`'fscore'` para serem usados mais tarde.*\n",
    "\n",
    "**Por favor, note** que o propósito de gerar um preditor ingênuo é simplesmente mostrar como seria um modelo básico sem qualquer inteligência. No mundo real, idealmente, seu modelo básico seria o resultado de um modelo anterior ou poderia ser baseado em um trabalho de pesquisa sobre o qual você deseja melhorar. Quando não há um conjunto de modelos de referência, obter um resultado melhor do que a escolha aleatória é um lugar de onde você pode começar.\n",
    "\n",
    "**DICA:**\n",
    "\n",
    "*Quando temos um modelo que sempre prevê '1' (ou seja, o indivíduo ganha mais de 50k), então nosso modelo não terá True Negatives (TN) ou False Negatives (FN), pois não estamos fazendo nenhum valor negativo ('0' ) previsões. Portanto, a nossa Acurácia neste caso se torna a mesma que a nossa Precisão (Positivos Verdadeiros / (Positivos Verdadeiros + Positivos Falsos)) como toda predição que fizemos com o valor '1' que deveria ter '0' se torna um Falso Positivo; portanto, nosso denominador, neste caso, é o número total de registros que temos no total* \n",
    "Nossa pontuação Recall (True Positives / (True Positives + False Negatives)) neste cenário se torna 1, pois não temos False Negatives."
   ]
  },
  {
   "cell_type": "code",
   "execution_count": 8,
   "metadata": {},
   "outputs": [
    {
     "name": "stdout",
     "output_type": "stream",
     "text": [
      "Naive Predictor: [Accuracy score: 0.2478, F-score: 0.2917]\n"
     ]
    }
   ],
   "source": [
    "TP = np.sum(income) # Contando os como este é o caso ingênuo. Note que 'renda' é o dado 'income_raw'\n",
    "#codificado para valores numéricos feitos na etapa de pré-processamento de dados.\n",
    "FP = income.count()-TP # Específico para o caso ingênuo\n",
    "\n",
    "TN = 0 # Nenhum negativo previsto no caso ingênuo\n",
    "FN = 0 # Nenhum negativo previsto no caso ingênuo\n",
    "\n",
    "# TODO: Calculate accuracy, precision and recall\n",
    "accuracy = (TP+TN)/(TP+FP+TN+FN)           #Accuracy = (TP +TN ) / (TP + FP +TN +FN). \n",
    "recall = TP/(TP+FN)                        #recall = True Positives/(True Positives + False Negatives)\n",
    "precision = TP/(TP+FP)                     #precision = True Positives/(True Positives + False Positives)\n",
    "\n",
    "# TODO: Calculate F-score using the formula above for beta = 0.5 and correct values for precision and recall.\n",
    "beta = 0.5\n",
    "fscore = (1+beta**2)*precision*recall/(beta**2*precision+recall)\n",
    "\n",
    "# Print the results \n",
    "print(\"Naive Predictor: [Accuracy score: {:.4f}, F-score: {:.4f}]\".format(accuracy, fscore))"
   ]
  },
  {
   "cell_type": "markdown",
   "metadata": {},
   "source": [
    "###  Supervised Learning Models\n",
    "**The following are some of the supervised learning models that are currently available in** [`scikit-learn`](http://scikit-learn.org/stable/supervised_learning.html) **that you may choose from:**\n",
    "- Gaussian Naive Bayes (GaussianNB)\n",
    "- Decision Trees\n",
    "- Ensemble Methods (Bagging, AdaBoost, Random Forest, Gradient Boosting)\n",
    "- K-Nearest Neighbors (KNeighbors)\n",
    "- Stochastic Gradient Descent Classifier (SGDC)\n",
    "- Support Vector Machines (SVM)\n",
    "- Logistic Regression\n",
    "\n",
    "### Modelos de aprendizagem supervisionados\n",
    "**A seguir estão alguns dos modelos de aprendizado supervisionado que estão atualmente disponíveis no** [`scikit-learn`](http://scikit-learn.org/stable/supervised_learning.html) **que você pode escolher:**\n",
    "- Gaussian Naive Bayes (GaussianNB)\n",
    "- Árvores de decisão\n",
    "- Métodos Ensemble (Bagging, AdaBoost, Random Forest, Gradient Boosting)\n",
    "- K-vizinhos mais próximos (KNeighbors)\n",
    "- Classificador Estocástico de Descida de Gradiente (SGDC)\n",
    "- Support Vector Machines (SVM)\n",
    "- Regressão Logística"
   ]
  },
  {
   "cell_type": "markdown",
   "metadata": {},
   "source": [
    "### Question 2 - Model Application\n",
    "List three of the supervised learning models above that are appropriate for this problem that you will test on the census data. For each model chosen\n",
    "\n",
    "- Describe one real-world application in industry where the model can be applied. \n",
    "- What are the strengths of the model; when does it perform well?\n",
    "- What are the weaknesses of the model; when does it perform poorly?\n",
    "- What makes this model a good candidate for the problem, given what you know about the data?\n",
    "\n",
    "**HINT:**\n",
    "\n",
    "Structure your answer in the same format as above, with 4 parts for each of the three models you pick. Please include references with your answer.\n",
    "\n",
    "### Questão 2 - Aplicação do Modelo\n",
    "Liste três dos modelos de aprendizado supervisionado acima que são apropriados para esse problema que você testará nos dados do censo. Para cada modelo escolhido\n",
    "\n",
    "- Descreva uma aplicação do mundo real na indústria onde o modelo pode ser aplicado.\n",
    "- Quais são os pontos fortes do modelo? quando funciona bem?\n",
    "- Quais são as fraquezas do modelo; quando funciona mal?\n",
    "O que faz deste modelo um bom candidato para o problema, dado o que você sabe sobre os dados?\n",
    "\n",
    "**DICA:**\n",
    "\n",
    "Estruture sua resposta no mesmo formato acima, com 4 partes para cada um dos três modelos que você escolher. Por favor, inclua referências com sua resposta."
   ]
  },
  {
   "cell_type": "markdown",
   "metadata": {},
   "source": [
    "**Answer:** \n",
    "Os modelos escolhidos são: \n",
    "\n",
    "**1-Gaussian Naive Bayes(GaussianNB)**\n",
    "\n",
    "Pode ser usado para fornecer a probabilidade de uma pessoa fazer uma doação, poderia ser considerado um threshold, um valor limite, por exemplo threshold=0.9, se o valor previsto pelo modelo exceder esse threshold, podemos considerar que a pessoa irá fazer a doação.\n",
    "\n",
    "1.1-As principais aplicações do algoritmo são:\n",
    "\n",
    "Categorização de notícias, detecção de spam por e-mail, reconhecimento facial, análise de sentimentos, diagnóstico médico, reconhecimento de dígitos e previsão do tempo.\n",
    "\n",
    "1.2- Os pontos positivos do modelo:\n",
    "\n",
    "Possui um desempenho relativamente superior a outros classificadores, por ser simples e rápido. Além disso, o algorítimo Naive Bayes precisa de um conjunto de dados de teste relativamente pequeno, para concluir classificações com uma boa precisão.\n",
    "funciona bem quando as características(features) que o algorítimo usa para fazer previsões são independentes entre si.\n",
    "\n",
    "1.3- Os pontos negativos do modelo:\n",
    "A principal fraquesa do modelo é que ele desconsidera completamente a correlação entre as variáveis(features). ou seja ele considera que os recursos (variáveis) que o algorítimo usa para fazer previsões são independentes entre si, isso é uma simplificação da realidade, considero esse classificador adequado, pois suponho que a relação entre as características do modelo, não é significativa.\n",
    "\n",
    "referências: \n",
    "\n",
    "https://www.quora.com/In-what-real-world-applications-is-Naive-Bayes-classifier-used\n",
    "\n",
    "https://www.organicadigital.com/seeds/algoritmo-de-classificacao-naive-bayes/\n",
    "\n",
    "**2-Árvores de decisão**\n",
    "Árvores de decisão são usadas em problemas de classificação de modo geral, podem ser usadas para prever se uma pessoa irá fazer uma doação com base em cada característica encontrada nos dados\n",
    "\n",
    "1.1-As principais aplicações do algoritmo são:\n",
    "\n",
    "gestão logística empresarial,  pontuação de crédito, risco de crime, diagnóstico médico, previsão de falhas, bagging ou boosting.\n",
    "\n",
    "1.2- Os pontos positivos do modelo:\n",
    "\n",
    "É um algorítimo bastante simples, rápido, fácil de implementar, funciona muito bem quando os dados são esparsos, ou seja no caso de disgnósticos de doenças, quando uma porcentagem muito pequena dos dados corresponde a um verdadeiro positivo.\n",
    "\n",
    "1.3- Os pontos negativos do modelo:\n",
    "\n",
    "Quando os dados não são esparsos, ou seja, quando os dados estão aproximadamente distribuídos igualmente entre as classes, o modelo tem um desempenho ruim. esse modelo parece ser um bom candidato para o problema porque os dados são esparsos, ou seja a grande maioria das pessoas ganha menos que $ 50,000 por ano, aproximadamente 24%. \n",
    "\n",
    "referências: \n",
    "\n",
    "https://periodicos.ufsm.br/coming/article/view/21132\n",
    "\n",
    "https://acervodigital.ufpr.br/handle/1884/46683\n",
    "\n",
    "https://www.quora.com/In-what-real-world-applications-is-the-decision-tree-classifier-used\n",
    "\n",
    "http://www.lbd.dcc.ufmg.br/colecoes/sbsi/2013/009.pdf\n",
    "\n",
    "\n",
    "**3-Support Vector Machines(SVM)**\n",
    "\n",
    "SVM é um algorítimo de classificação muito usado, pois possuei um ótimo desempenho, usa o kernel trick para encontrar a melhor linha que separa os dados, o objetivo é encontrar a linha que maximiza a distância entre os pontos mais próximos em relação a cada uma das classes, esse modelo é uma ótima escolha para o problema em questão.\n",
    "\n",
    "1.1-As principais aplicações do algoritmo são:\n",
    "\n",
    "em aplicações geográficas, como na análise espaço-temporal do uso e ocupação do solo, na area médica, para predição do risco de morte de pacientes internados com alguma doença, reconhecimento facial, categorização de Texto e hypertexto, classificação de imagens, bioinformática, Detecção de proteínas e homologia remota, reconhecimento de manuscrito, controle preditivo generalizado(GPC).\n",
    "\n",
    "1.2- Os pontos positivos do modelo:\n",
    "\n",
    "Esse algorítimo possui diferentes funções de kernel, as principais são linear, polinomial, rbf etc.. essas funções possuem um ótimo desempenho na maioria das tarefas de classificação, mas em alguns conjuntos de dados elas podem não ser muito adequadas.\n",
    "\n",
    "1.3- Os pontos negativos do modelo:\n",
    "\n",
    "Em alguns casos as funções de kernel citadas acima, não são adequadas para classificar os dados, desse modo o algorítimo não possuirá uma boa performance, o algorítimo SVM é muito adequado para essa tarefa pois o data-set não é muito complexo, e as funções do kernel disponíveis são mais que suficientes para classificar bem os dados. \n",
    "\n",
    "referências: \n",
    "\n",
    "http://www.seer.ufu.br/index.php/caminhosdegeografia/article/view/24446\n",
    "\n",
    "http://www.din.uem.br/sbpo/sbpo2010/pdf/72295.pdf\n",
    "\n",
    "https://pt.wikipedia.org/wiki/Máquina_de_vetores_de_suporte\n",
    "\n",
    "https://data-flair.training/blogs/applications-of-svm/"
   ]
  },
  {
   "cell_type": "markdown",
   "metadata": {},
   "source": [
    "### Implementation - Creating a Training and Predicting Pipeline\n",
    "To properly evaluate the performance of each model you've chosen, it's important that you create a training and predicting pipeline that allows you to quickly and effectively train models using various sizes of training data and perform predictions on the testing data. Your implementation here will be used in the following section.\n",
    "In the code block below, you will need to implement the following:\n",
    " - Import `fbeta_score` and `accuracy_score` from [`sklearn.metrics`](http://scikit-learn.org/stable/modules/classes.html#sklearn-metrics-metrics).\n",
    " - Fit the learner to the sampled training data and record the training time.\n",
    " - Perform predictions on the test data `X_test`, and also on the first 300 training points `X_train[:300]`.\n",
    "   - Record the total prediction time.\n",
    " - Calculate the accuracy score for both the training subset and testing set.\n",
    " - Calculate the F-score for both the training subset and testing set.\n",
    "   - Make sure that you set the `beta` parameter!\n",
    "   \n",
    "### Implementação - Criando um pipeline de treinamento e previsão\n",
    "Para avaliar adequadamente o desempenho de cada modelo escolhido, é importante criar um pipeline de treinamento e previsão que permita treinar modelos de maneira rápida e eficiente usando vários tamanhos de dados de treinamento e realizar previsões nos dados de teste. Sua implementação aqui será usada na seção a seguir.\n",
    "No bloco de código abaixo, você precisará implementar o seguinte:\n",
    " - Importe `fbeta_score` e` accuracy_score` de [`sklearn.metrics`] (http://scikit-learn.org/stable/modules/classes.html#sklearn-metrics-metrics).\n",
    " - Coloque o aluno nos dados de treinamento da amostra e registre o tempo de treinamento.\n",
    " - Execute previsões nos dados de teste `X_test`, e também nos primeiros 300 pontos de treinamento` X_train [: 300] `.\n",
    "   - Registre o tempo total de previsão.\n",
    " - Calcule a pontuação de precisão para o subconjunto de treinamento e o conjunto de testes.\n",
    " - Calcular o F-score para o subconjunto de treinamento e o conjunto de testes.\n",
    "   - Certifique-se de definir o parâmetro `beta`!"
   ]
  },
  {
   "cell_type": "code",
   "execution_count": 9,
   "metadata": {},
   "outputs": [],
   "source": [
    "# TODO: Import two metrics from sklearn - fbeta_score and accuracy_score\n",
    "from sklearn.metrics import accuracy_score, fbeta_score\n",
    "\n",
    "def train_predict(learner, sample_size, X_train, y_train, X_test, y_test): \n",
    "    '''\n",
    "    inputs:\n",
    "       - learner: the learning algorithm to be trained and predicted on\n",
    "       - sample_size: the size of samples (number) to be drawn from training set-\n",
    "       o tamanho das amostras (número) a serem retiradas do conjunto de treinamento\n",
    "       - X_train: features training set\n",
    "       - y_train: income training set\n",
    "       - X_test: features testing set\n",
    "       - y_test: income testing set\n",
    "    '''\n",
    "    \n",
    "    results = {}\n",
    "    \n",
    "    # TODO: Fit the learner to the training data using slicing with 'sample_size' using .fit(training_features[:], training_labels[:])\n",
    "    # TODO: Adapte o aluno aos dados de treinamento usando o \n",
    "    #fatiamento com 'sample_size' usando .fit (training_features [:], training_labels [:])\n",
    "    start = time() # Get start time\n",
    "    learner.fit(X_train[:sample_size], y_train[:sample_size])\n",
    "    end = time() # Get end time\n",
    "    \n",
    "    # TODO: Calculate the training time\n",
    "    results['train_time'] = end-start\n",
    "        \n",
    "    # TODO: Get the predictions on the test set(X_test),\n",
    "    # then get predictions on the first 300 training samples(X_train) using .predict()\n",
    "    \n",
    "    # TODO: Obtenha as previsões no conjunto de testes (X_test),\n",
    "    # então obtenha previsões nas primeiras 300 amostras de treinamento (X_train) usando .predict ()\n",
    "    \n",
    "    start = time() # Get start time\n",
    "    predictions_test = learner.predict(X_test)\n",
    "    predictions_train = learner.predict(X_train[:300])\n",
    "    end = time() # Get end time\n",
    "    \n",
    "    # TODO: Calculate the total prediction time\n",
    "    results['pred_time'] = end-start\n",
    "            \n",
    "    # TODO: Compute accuracy on the first 300 training samples which is y_train[:300]\n",
    "    results['acc_train'] = accuracy_score(y_train[:300], predictions_train)\n",
    "        \n",
    "    # TODO: Compute accuracy on test set using accuracy_score()\n",
    "    results['acc_test'] = accuracy_score(y_test, predictions_test)\n",
    "    \n",
    "    # TODO: Compute F-score on the the first 300 training samples using fbeta_score()\n",
    "    beta=0.01  \n",
    "    results['f_train'] = fbeta_score(y_train[:300], predictions_train, beta)\n",
    "        \n",
    "    # TODO: Compute F-score on the test set which is y_test\n",
    "    results['f_test'] = fbeta_score(y_test, predictions_test, beta)\n",
    "       \n",
    "    # Success\n",
    "    print(\"{} trained on {} samples.\".format(learner.__class__.__name__, sample_size))\n",
    "        \n",
    "    # Return the results\n",
    "    return results"
   ]
  },
  {
   "cell_type": "markdown",
   "metadata": {},
   "source": [
    "### Implementation: Initial Model Evaluation\n",
    "In the code cell, you will need to implement the following:\n",
    "- Import the three supervised learning models you've discussed in the previous section.\n",
    "- Initialize the three models and store them in `'clf_A'`, `'clf_B'`, and `'clf_C'`.\n",
    "  - Use a `'random_state'` for each model you use, if provided.\n",
    "  - **Note:** Use the default settings for each model — you will tune one specific model in a later section.\n",
    "- Calculate the number of records equal to 1%, 10%, and 100% of the training data.\n",
    "  - Store those values in `'samples_1'`, `'samples_10'`, and `'samples_100'` respectively.\n",
    "\n",
    "**Note:** Depending on which algorithms you chose, the following implementation may take some time to run!\n",
    "\n",
    "### Implementação: Avaliação Inicial do Modelo\n",
    "Na célula de código, você precisará implementar o seguinte:\n",
    "- Importe os três modelos de aprendizado supervisionados que você discutiu na seção anterior.\n",
    "- Inicialize os três modelos e armazene-os em `'clf_A', clf_B e clf_.\n",
    "   - Use um `'random_state'` para cada modelo que você usar, se fornecido.\n",
    "   - **Nota:** Use as configurações padrão para cada modelo - você irá ajustar um modelo específico em uma seção posterior.\n",
    "- Calcule o número de registros igual a 1%, 10% e 100% dos dados de treinamento.\n",
    "   - Armazene esses valores em `'samples_1'`,`'samples_10'` e `'samples_100'` respectivamente.\n",
    "\n",
    "**Nota:** Dependendo de quais algoritmos você escolheu, a implementação a seguir pode levar algum tempo para ser executada!\n"
   ]
  },
  {
   "cell_type": "code",
   "execution_count": 10,
   "metadata": {},
   "outputs": [
    {
     "name": "stdout",
     "output_type": "stream",
     "text": [
      "MultinomialNB trained on 361 samples.\n",
      "MultinomialNB trained on 3617 samples.\n",
      "MultinomialNB trained on 36177 samples.\n"
     ]
    },
    {
     "name": "stderr",
     "output_type": "stream",
     "text": [
      "C:\\Users\\Italo\\Anaconda3\\envs\\ITALO\\lib\\site-packages\\sklearn\\svm\\base.py:196: FutureWarning: The default value of gamma will change from 'auto' to 'scale' in version 0.22 to account better for unscaled features. Set gamma explicitly to 'auto' or 'scale' to avoid this warning.\n",
      "  \"avoid this warning.\", FutureWarning)\n",
      "C:\\Users\\Italo\\Anaconda3\\envs\\ITALO\\lib\\site-packages\\sklearn\\metrics\\classification.py:1143: UndefinedMetricWarning: F-score is ill-defined and being set to 0.0 due to no predicted samples.\n",
      "  'precision', 'predicted', average, warn_for)\n",
      "C:\\Users\\Italo\\Anaconda3\\envs\\ITALO\\lib\\site-packages\\sklearn\\svm\\base.py:196: FutureWarning: The default value of gamma will change from 'auto' to 'scale' in version 0.22 to account better for unscaled features. Set gamma explicitly to 'auto' or 'scale' to avoid this warning.\n",
      "  \"avoid this warning.\", FutureWarning)\n"
     ]
    },
    {
     "name": "stdout",
     "output_type": "stream",
     "text": [
      "SVC trained on 361 samples.\n",
      "SVC trained on 3617 samples.\n"
     ]
    },
    {
     "name": "stderr",
     "output_type": "stream",
     "text": [
      "C:\\Users\\Italo\\Anaconda3\\envs\\ITALO\\lib\\site-packages\\sklearn\\svm\\base.py:196: FutureWarning: The default value of gamma will change from 'auto' to 'scale' in version 0.22 to account better for unscaled features. Set gamma explicitly to 'auto' or 'scale' to avoid this warning.\n",
      "  \"avoid this warning.\", FutureWarning)\n"
     ]
    },
    {
     "name": "stdout",
     "output_type": "stream",
     "text": [
      "SVC trained on 36177 samples.\n",
      "DecisionTreeClassifier trained on 361 samples.\n",
      "DecisionTreeClassifier trained on 3617 samples.\n",
      "DecisionTreeClassifier trained on 36177 samples.\n"
     ]
    },
    {
     "data": {
      "image/png": "[encoded data removed]",
      "text/plain": [
       "<Figure size 792x504 with 8 Axes>"
      ]
     },
     "metadata": {
      "needs_background": "light"
     },
     "output_type": "display_data"
    }
   ],
   "source": [
    "# TODO: Import the three supervised learning models from sklearn\n",
    "from sklearn.naive_bayes import MultinomialNB\n",
    "from sklearn.svm import SVC\n",
    "from sklearn.tree import DecisionTreeClassifier\n",
    "\n",
    "# TODO: Initialize the three models\n",
    "clf_A = MultinomialNB() #naive_bayes\n",
    "clf_B = SVC(random_state=33)\n",
    "#clf_B = SVC(kernel='rbf',gamma=30, C=1, random_state=33)\n",
    "clf_C = DecisionTreeClassifier(random_state=44)\n",
    "#clf_C = DecisionTreeClassifier(max_depth=6,min_samples_leaf=6,min_samples_split=10, random_state=44)\n",
    "\n",
    "# TODO: Calculate the number of samples for 1%, 10%, and 100% of the training data\n",
    "# HINT: samples_100 is the entire training set i.e. len(y_train)\n",
    "# HINT: samples_10 is 10% of samples_100 (ensure to set the count of the values to be `int` and not `float`)\n",
    "# HINT: samples_1 is 1% of samples_100 (ensure to set the count of the values to be `int` and not `float`)\n",
    "\n",
    "# TODO: calcular o número de amostras para 1%, 10% e 100% dos dados de treinamento\n",
    "# DICA: samples_100 é o conjunto de treinamento inteiro, ou seja, len (y_train)\n",
    "# HINT: samples_10 é 10% de samples_100 (certifique-se de definir a contagem dos valores como int e não como float)\n",
    "# HINT: samples_1 é 1% de samples_100 (certifique-se de definir a contagem dos valores como int e não como float)\n",
    "samples_100 = int(len(y_train))\n",
    "samples_10 = int(0.1*samples_100)\n",
    "samples_1 =  int(0.01*samples_100) \n",
    "\n",
    "# Collect results on the learners\n",
    "results = {}\n",
    "for clf in [clf_A, clf_B, clf_C]:\n",
    "    clf_name = clf.__class__.__name__ \n",
    "    results[clf_name] = {}\n",
    "    for i, samples in enumerate([samples_1, samples_10, samples_100]):\n",
    "        results[clf_name][i] = train_predict(clf, samples, X_train, y_train, X_test, y_test)\n",
    "\n",
    "# Run metrics visualization for the three supervised learning models chosen\n",
    "vs.evaluate(results, accuracy, fscore)"
   ]
  },
  {
   "cell_type": "markdown",
   "metadata": {},
   "source": [
    "----\n",
    "## Improving Results\n",
    "In this final section, you will choose from the three supervised learning models the *best* model to use on the student data. You will then perform a grid search optimization for the model over the entire training set (`X_train` and `y_train`) by tuning at least one parameter to improve upon the untuned model's F-score. \n",
    "\n",
    "----\n",
    "## Melhorando Resultados\n",
    "Nesta seção final, você escolherá entre os três modelos de aprendizado supervisionado o modelo *melhor* para usar nos dados do aluno. Você então realizará uma otimização de busca de grade para o modelo sobre todo o conjunto de treinamento (`X_train` e` y_train`) ajustando pelo menos um parâmetro para melhorar o F-score do modelo desafinado.\n"
   ]
  },
  {
   "cell_type": "markdown",
   "metadata": {},
   "source": [
    "### Question 3 - Choosing the Best Model\n",
    "\n",
    "Based on the evaluation you performed earlier, in one to two paragraphs, explain to *CharityML* which of the three models you believe to be most appropriate for the task of identifying individuals that make more than \\$50,000. \n",
    "\n",
    "**HINT:** \n",
    "Look at the graph at the bottom left from the cell above(the visualization created by `vs.evaluate(results, accuracy, fscore)`) and check the F score for the testing set when 100% of the training set is used. Which model has the highest score? Your answer should include discussion of the:\n",
    "*metrics - F score on the testing when 100% of the training data is used,* \n",
    "*prediction/training time*\n",
    "*the algorithm's suitability for the data.*\n",
    "\n",
    "### Pergunta 3 - Escolhendo o Melhor Modelo\n",
    "\n",
    "Com base na avaliação que você realizou anteriormente, em um a dois parágrafos, explique para *CharityML* qual dos três modelos você acredita ser o mais apropriado para a tarefa de identificar indivíduos que ganham mais que \\$ 50.000.\n",
    "\n",
    "**DICA:**\n",
    "Observe o gráfico no canto inferior esquerdo da célula acima (a visualização criada por `vsevaluate (resultados, precisão, fscore)`) e verifique a pontuação F do conjunto de testes quando 100% do conjunto de treinamento é usado. Qual modelo tem a maior pontuação? Sua resposta deve incluir a discussão do:\n",
    "*métricas - pontuação F no teste quando 100% dos dados de treinamento são usados,*\n",
    "*previsão / tempo de treinamento*\n",
    "*adequação do algoritmo para os dados.*"
   ]
  },
  {
   "cell_type": "markdown",
   "metadata": {},
   "source": [
    "**Answer:** O algorítimo escolhido foi o SVC pois entre todos os modelos, foi o que apresentou o melhor desempenho nas métricas F-score e acurácia no conjunto de testes quando 100% dos dados foram usados, também levando em consideração o tempo de previsão /treinamento e a adequação do algoritmo ao conjunto de dados em questão."
   ]
  },
  {
   "cell_type": "markdown",
   "metadata": {},
   "source": [
    "### Question 4 - Describing the Model in Layman's Terms\n",
    "\n",
    "In one to two paragraphs, explain to *CharityML*, in layman's terms, how the final model chosen is supposed to work. Be sure that you are describing the major qualities of the model, such as how the model is trained and how the model makes a prediction. Avoid using advanced mathematical jargon, such as describing equations.\n",
    "\n",
    "**HINT:**\n",
    "\n",
    "When explaining your model, if using external resources please include all citations.\n",
    "\n",
    "### Pergunta 4 - Descrevendo o modelo em termos de leigo\n",
    "\n",
    "Em um a dois parágrafos, explique para *CharityML*, em termos leigos, como o modelo final escolhido deve funcionar. Certifique-se de estar descrevendo as principais qualidades do modelo, por exemplo, como o modelo é treinado e como o modelo faz uma previsão. Evite usar jargões matemáticos avançados, como descrever equações.\n",
    "\n",
    "**DICA:**\n",
    "\n",
    "Ao explicar seu modelo, se estiver usando recursos externos, inclua todas as citações."
   ]
  },
  {
   "cell_type": "markdown",
   "metadata": {},
   "source": [
    "**Answer:** Support Vector Machine é um algorítmo muito usado em aprendizado de máquina, ele é adequado para tarefas de classificação, pois tem um ótimo desempenho ao separar dados de diferentes classes, ele usa uma técnica conhecida como 'kernel trick' para encontrar a melhor linha que separa os dados, durante a fase de treinamento, o algorítmo SVC é treinado no conjunto de dados para encontrar a linha que maximiza a distância entre os pontos mais próximos em relação a cada uma das classes, o segredo é mapear o conjunto de dados de um espaço n-dimensional, aonde os dados não são linearmente separáveis, para um espaço com mais dimensões, aonde os dados podem ser separados, depois que o modelo foi treinado, ele está pronto para ser testado, assim, quando um novo dado é inserido, ele faz uma previsão verificando a localização desse dado em relação as curvas que o modelo encontrou, essas curvas dividem o conjunto de dados em regiões diferentes, se o ponto de dados cair em uma determinada região, ele recebe uma classificação, se ele estiver localizado em outra região, ele recebe outra classificação, dessa forma esse modelo é uma ótima opção para problemas dessa natureza, pois foi o modelo entre todos os modelos testados, foi o que apresentou o melhor desempenho no conjunto de dados de teste."
   ]
  },
  {
   "cell_type": "markdown",
   "metadata": {},
   "source": [
    "### Implementation: Model Tuning\n",
    "Fine tune the chosen model. Use grid search (`GridSearchCV`) with at least one important parameter tuned with at least 3 different values. You will need to use the entire training set for this. In the code cell below, you will need to implement the following:\n",
    "- Import [`sklearn.grid_search.GridSearchCV`](http://scikit-learn.org/0.17/modules/generated/sklearn.grid_search.GridSearchCV.html) and [`sklearn.metrics.make_scorer`](http://scikit-learn.org/stable/modules/generated/sklearn.metrics.make_scorer.html).\n",
    "- Initialize the classifier you've chosen and store it in `clf`.\n",
    " - Set a `random_state` if one is available to the same state you set before.\n",
    "- Create a dictionary of parameters you wish to tune for the chosen model.\n",
    " - Example: `parameters = {'parameter' : [list of values]}`.\n",
    " - **Note:** Avoid tuning the `max_features` parameter of your learner if that parameter is available!\n",
    "- Use `make_scorer` to create an `fbeta_score` scoring object (with $\\beta = 0.5$).\n",
    "- Perform grid search on the classifier `clf` using the `'scorer'`, and store it in `grid_obj`.\n",
    "- Fit the grid search object to the training data (`X_train`, `y_train`), and store it in `grid_fit`.\n",
    "\n",
    "**Note:** Depending on the algorithm chosen and the parameter list, the following implementation may take some time to run!\n",
    "\n",
    "### Implementação: Model Tuning\n",
    "Ajuste o modelo escolhido. Use busca de grade (`GridSearchCV`) com pelo menos um parâmetro importante sintonizado com pelo menos 3 valores diferentes. Você precisará usar todo o conjunto de treinamento para isso. Na célula de código abaixo, você precisará implementar o seguinte:\n",
    "- Importe [`sklearn.grid_search.GridSearchCV`](http://scikit-learn.org/0.17/modules/generated/sklearn.grid_search.GridSearchCV.html) e [` sklearn.metrics.make_scorer`](http: / /scikit-learn.org/stable/modules/generated/sklearn.metrics.make_scorer.html).\n",
    "- Inicialize o classificador que você escolheu e armazene em `clf`.\n",
    " - Defina um `random_state` se estiver disponível para o mesmo estado que você definiu anteriormente.\n",
    "- Crie um dicionário de parâmetros que você deseja ajustar para o modelo escolhido.\n",
    " Exemplo: `parameters = {'parameter': [lista de valores]}`.\n",
    " - **Nota:** Evite sintonizar o parâmetro `max_features` do seu aluno se esse parâmetro estiver disponível!\n",
    "- Use `make_scorer` para criar um objeto de pontuação` fbeta_score` (com $\\beta = 0.5$).\n",
    "- Realize busca de grade no classificador `clf` usando o `scorer` e armazene-o em `grid_obj`.\n",
    "- Ajuste o objeto de busca da grade aos dados de treinamento (`X_train`,` y_train`) e armazene-o em `grid_fit`.\n",
    "\n",
    "**Nota:** Dependendo do algoritmo escolhido e da lista de parâmetros, a implementação a seguir pode levar algum tempo para ser executada!"
   ]
  },
  {
   "cell_type": "code",
   "execution_count": 17,
   "metadata": {},
   "outputs": [
    {
     "name": "stderr",
     "output_type": "stream",
     "text": [
      "C:\\Users\\Italo\\Anaconda3\\envs\\ITALO\\lib\\site-packages\\sklearn\\svm\\base.py:196: FutureWarning: The default value of gamma will change from 'auto' to 'scale' in version 0.22 to account better for unscaled features. Set gamma explicitly to 'auto' or 'scale' to avoid this warning.\n",
      "  \"avoid this warning.\", FutureWarning)\n",
      "C:\\Users\\Italo\\Anaconda3\\envs\\ITALO\\lib\\site-packages\\sklearn\\svm\\base.py:196: FutureWarning: The default value of gamma will change from 'auto' to 'scale' in version 0.22 to account better for unscaled features. Set gamma explicitly to 'auto' or 'scale' to avoid this warning.\n",
      "  \"avoid this warning.\", FutureWarning)\n"
     ]
    },
    {
     "name": "stdout",
     "output_type": "stream",
     "text": [
      "Unoptimized model\n",
      "------\n",
      "Accuracy score on testing data: 0.8234\n",
      "F-score on testing data: 0.6411\n",
      "\n",
      "Optimized Model\n",
      "------\n",
      "Final accuracy score on the testing data: 0.8278\n",
      "Final F-score on the testing data: 0.6521\n"
     ]
    }
   ],
   "source": [
    "# TODO: Import 'GridSearchCV', 'make_scorer', and any other necessary libraries\n",
    "from sklearn.model_selection import GridSearchCV\n",
    "from sklearn.metrics import fbeta_score, make_scorer\n",
    "from sklearn.svm import SVC\n",
    "import numpy as np\n",
    "\n",
    "\n",
    "# TODO: Initialize the classifier\n",
    "clf = SVC(kernel='rbf',random_state=33)\n",
    "\n",
    "# TODO: Create the parameters list you wish to tune, using a dictionary if needed.\n",
    "# HINT: parameters = {'parameter_1': [value1, value2], 'parameter_2': [value1, value2]}\n",
    "#parameters = {'gamma': [1/len(y_train),1/(len(y_train)*np.mean(X_train.std()))], 'C': [1,10]}\n",
    "parameters={'C':[0.5,1.0,10.0,50.0],'gamma':['auto','scale',10]}\n",
    "\n",
    "# TODO: Make an fbeta_score scoring object using make_scorer()\n",
    "scorer = make_scorer(fbeta_score, beta=0.5)\n",
    "\n",
    "# TODO: Perform grid search on the classifier using 'scorer' as the scoring method using GridSearchCV()\n",
    "# TODO: executar pesquisa de grade no classificador usando 'marcador' como o método de pontuação usando GridSearchCV ()\n",
    "grid_obj = GridSearchCV(clf, param_grid=parameters, scoring=scorer)\n",
    "\n",
    "# TODO: Fit the grid search object to the training data and find the optimal parameters using fit()\n",
    "grid_fit = grid_obj.fit(X_train,y_train)\n",
    "\n",
    "# Get the estimator\n",
    "best_clf = grid_fit.best_estimator_\n",
    "\n",
    "# Make predictions using the unoptimized and model\n",
    "predictions = (clf.fit(X_train, y_train)).predict(X_test)\n",
    "best_predictions = best_clf.predict(X_test)\n",
    "\n",
    "# Report the before-and-afterscores\n",
    "print(\"Unoptimized model\\n------\")\n",
    "print(\"Accuracy score on testing data: {:.4f}\".format(accuracy_score(y_test, predictions)))\n",
    "print(\"F-score on testing data: {:.4f}\".format(fbeta_score(y_test, predictions, beta = 0.5)))\n",
    "print(\"\\nOptimized Model\\n------\")\n",
    "print(\"Final accuracy score on the testing data: {:.4f}\".format(accuracy_score(y_test, best_predictions)))\n",
    "print(\"Final F-score on the testing data: {:.4f}\".format(fbeta_score(y_test, best_predictions, beta = 0.5)))\n"
   ]
  },
  {
   "cell_type": "markdown",
   "metadata": {},
   "source": [
    "### Question 5 - Final Model Evaluation\n",
    "\n",
    "* What is your optimized model's accuracy and F-score on the testing data? \n",
    "* Are these scores better or worse than the unoptimized model? \n",
    "* How do the results from your optimized model compare to the naive predictor benchmarks you found earlier in **Question 1**?  \n",
    "\n",
    "**Note:** Fill in the table below with your results, and then provide discussion in the **Answer** box.\n",
    "\n",
    "### Questão 5 - Avaliação do Modelo Final\n",
    "\n",
    "* Qual é a precisão do seu modelo otimizado e pontuação F nos dados de teste?\n",
    "* Essas pontuações são melhores ou piores do que o modelo não otimizado?\n",
    "* Como os resultados de seu modelo otimizado se comparam aos benchmarks de previsão ingênuos encontrados anteriormente em **Questão 1**?\n",
    "\n",
    "**Nota:** Preencha a tabela abaixo com seus resultados e, em seguida, forneça a discussão na caixa **Resposta**."
   ]
  },
  {
   "cell_type": "markdown",
   "metadata": {},
   "source": [
    "#### Results:\n",
    "\n",
    "|     Metric     | Unoptimized Model | Optimized Model |\n",
    "| :------------: | :---------------: | :-------------: | \n",
    "| Accuracy Score |      0.8234       |      0.8278     |\n",
    "| F-score        |      0.6411       |      0.6521     |\n"
   ]
  },
  {
   "cell_type": "markdown",
   "metadata": {},
   "source": [
    "**Answer:** \n",
    "\n",
    "O modelo otimizado apresentou acurácia final nos dados do teste de 0,8227 e F-Escore final nos dados do teste de 0,6396, e o modelo otimizado apresentou um desempenho melhor, embora a diferença não seja significativa, a acurácia e o f-score foram de 0.8278 e 0.6521, respectivamente.\n",
    "Os benchmarks de previsão ingênuos encontrados anteriormente em questão 1 foram:\n",
    "\n",
    "Accuracy score: 0.2478 e F-score: 0.2917\n",
    "\n",
    "Comparando os resultados, observamos que apesar do modelo otimizado apresentar um desempenho um pouco melhor, é muito superior aos benchmarks de previsão ingênuos."
   ]
  },
  {
   "cell_type": "markdown",
   "metadata": {},
   "source": [
    "----\n",
    "## Feature Importance\n",
    "\n",
    "An important task when performing supervised learning on a dataset like the census data we study here is determining which features provide the most predictive power. By focusing on the relationship between only a few crucial features and the target label we simplify our understanding of the phenomenon, which is most always a useful thing to do. In the case of this project, that means we wish to identify a small number of features that most strongly predict whether an individual makes at most or more than \\$50,000.\n",
    "\n",
    "Choose a scikit-learn classifier (e.g., adaboost, random forests) that has a `feature_importance_` attribute, which is a function that ranks the importance of features according to the chosen classifier.  In the next python cell fit this classifier to training set and use this attribute to determine the top 5 most important features for the census dataset.\n",
    "\n",
    "## Importância do recurso\n",
    "\n",
    "Uma tarefa importante ao realizar o aprendizado supervisionado em um conjunto de dados, como os dados do censo que estudamos aqui, é determinar quais recursos fornecem a maior capacidade de previsão. Concentrando-nos na relação entre apenas alguns aspectos cruciais e o rótulo de alvo, simplificamos nossa compreensão do fenômeno, o que é sempre mais útil. No caso deste projeto, isso significa que desejamos identificar um pequeno número de recursos que prevejam com maior intensidade se um indivíduo faz no máximo ou mais de $ 50.000.\n",
    "\n",
    "Escolha um classificador scikit-learn (por exemplo, adaboost, florestas aleatórias) que tenha um atributo `feature_importance_`, que é uma função que classifica a importância dos recursos de acordo com o classificador escolhido. Na próxima célula python, ajuste esse classificador ao conjunto de treinamento e use esse atributo para determinar os 5 principais recursos mais importantes para o conjunto de dados do censo."
   ]
  },
  {
   "cell_type": "markdown",
   "metadata": {},
   "source": [
    "### Question 6 - Feature Relevance Observation\n",
    "When **Exploring the Data**, it was shown there are thirteen available features for each individual on record in the census data. Of these thirteen records, which five features do you believe to be most important for prediction, and in what order would you rank them and why?\n",
    "\n",
    "### Pergunta 6 - Observação da Relevância do Recurso\n",
    "Quando **Explorando os dados**, foi mostrado que há treze recursos disponíveis para cada indivíduo registrado nos dados do censo. Destes treze registros, quais cinco características você acredita serem mais importantes para a previsão, e em que ordem você as classificaria e por quê?\n"
   ]
  },
  {
   "cell_type": "markdown",
   "metadata": {},
   "source": [
    "**Answer:** Os recursos que acredito serem os mais relevantes em ordem de importância são:\n",
    "\n",
    "1) capital-gain - considero esse recurso o mais importante, pois mede a diferença entre o patrimônio e as dispesas, ou seja quanto dinheiro disponivel a pessoa tem pra gastar.\n",
    "\n",
    "2) workclass - esse recurso tembém é muito importante, pois algumas áreas remuneram melhor que outras.\n",
    "\n",
    "3) education - o nível de escolariade é fundamental pois frequentimente pessoas com mais escolaridade ganham mais.\n",
    "\n",
    "4) occupation - A ocupação também influência se a pessoa é um doador em potêncial, pois profissionais que ocupam determindos cargos são mais bem remunerados do que outros.\n",
    "\n",
    "5) hours-per-week - esse recurso é relevante, pois geralmente, quanto mais horas por semana a pessoa trabalha mais ela ganha."
   ]
  },
  {
   "cell_type": "markdown",
   "metadata": {},
   "source": [
    "### Implementation - Extracting Feature Importance\n",
    "Choose a `scikit-learn` supervised learning algorithm that has a `feature_importance_` attribute availble for it. This attribute is a function that ranks the importance of each feature when making predictions based on the chosen algorithm.\n",
    "\n",
    "In the code cell below, you will need to implement the following:\n",
    " - Import a supervised learning model from sklearn if it is different from the three used earlier.\n",
    " - Train the supervised model on the entire training set.\n",
    " - Extract the feature importances using `'.feature_importances_'`.\n",
    " \n",
    "### Implementação - Extraindo Importância do Recurso\n",
    "Escolha um algoritmo de aprendizado supervisionado `scikit-learn` que tenha um atributo` feature_importance_` disponível para ele. Esse atributo é uma função que classifica a importância de cada recurso ao fazer previsões com base no algoritmo escolhido.\n",
    "\n",
    "Na célula de código abaixo, você precisará implementar o seguinte:\n",
    "  - Importe um modelo de aprendizado supervisionado de sklearn, se for diferente dos três usados anteriormente.\n",
    "  - Treine o modelo supervisionado em todo o conjunto de treinamento.\n",
    "  - Extraia as importâncias do recurso usando `'.feature_importances_'`.\n"
   ]
  },
  {
   "cell_type": "code",
   "execution_count": 21,
   "metadata": {},
   "outputs": [
    {
     "data": {
      "image/png": "[encoded data removed]",
      "text/plain": [
       "<Figure size 648x360 with 1 Axes>"
      ]
     },
     "metadata": {
      "needs_background": "light"
     },
     "output_type": "display_data"
    },
    {
     "data": {
      "text/plain": [
       "\"\\n# TODO: Importe um modelo de aprendizado supervisionado que tenha 'feature_importances_'\\n\\n\\n# TODO: Treine o modelo supervisionado no conjunto de treinamento usando .fit (X_train, y_train)\\nmodel = None\\n\\n# TODO: extrair as importâncias do recurso usando .feature_importances_\\nimportances = nenhum\\n\\n# Enredo\\nvs.feature_plot (importâncias, X_train, y_train)\\n\""
      ]
     },
     "execution_count": 21,
     "metadata": {},
     "output_type": "execute_result"
    }
   ],
   "source": [
    "# TODO: Import a supervised learning model that has 'feature_importances_'\n",
    "#from sklearn.ensemble import RandomForestClassifier\n",
    "from sklearn.ensemble import AdaBoostClassifier\n",
    "from sklearn.tree import DecisionTreeClassifier\n",
    "# TODO: Train the supervised model on the training set using .fit(X_train, y_train)\n",
    "#model = RandomForestClassifier(n_estimators=100, max_depth=8, random_state=50)\n",
    "model = AdaBoostClassifier(DecisionTreeClassifier(max_depth=2),\n",
    "                         algorithm=\"SAMME\",\n",
    "                         n_estimators=100)\n",
    "model.fit(X_train,y_train)\n",
    "# TODO: Extract the feature importances using .feature_importances_ \n",
    "importances = model.feature_importances_\n",
    "\n",
    "# Plot\n",
    "vs.feature_plot(importances, X_train, y_train)\n",
    "\n",
    "\"\"\"\n",
    "# TODO: Importe um modelo de aprendizado supervisionado que tenha 'feature_importances_'\n",
    "\n",
    "\n",
    "# TODO: Treine o modelo supervisionado no conjunto de treinamento usando .fit (X_train, y_train)\n",
    "model = None\n",
    "\n",
    "# TODO: extrair as importâncias do recurso usando .feature_importances_\n",
    "importances = nenhum\n",
    "\n",
    "# Enredo\n",
    "vs.feature_plot (importâncias, X_train, y_train)\n",
    "\"\"\""
   ]
  },
  {
   "cell_type": "markdown",
   "metadata": {},
   "source": [
    "### Question 7 - Extracting Feature Importance\n",
    "\n",
    "Observe the visualization created above which displays the five most relevant features for predicting if an individual makes at most or above \\$50,000.  \n",
    "* How do these five features compare to the five features you discussed in **Question 6**?\n",
    "* If you were close to the same answer, how does this visualization confirm your thoughts? \n",
    "* If you were not close, why do you think these features are more relevant?\n",
    "\n",
    "### Question 7 - Extraindo Importância do Recurso\n",
    "\n",
    "Observe a visualização criada acima, que exibe os cinco recursos mais relevantes para prever se um indivíduo faz no máximo ou acima de $ 50.000.\n",
    "* Como esses cinco recursos se comparam aos cinco recursos discutidos na **Pergunta 6**?\n",
    "* Se você estava perto da mesma resposta, como essa visualização confirma seus pensamentos?\n",
    "* Se você não foi próximo, por que acha que esses recursos são mais relevantes?\n"
   ]
  },
  {
   "cell_type": "markdown",
   "metadata": {},
   "source": [
    "**Answer:**\n",
    "\n",
    "1 - Os recursos mais relevantes em ordem de importancia são:\n",
    "1) capital-gain, 2) marital-status, 3) education-level, 4) ocupation\n",
    "o único recurso que errei foi marital-status, foi uma surpresa pra mim, pois nunca imaginei que marital_status fosse tão relevante, a relação como os recursos da pergunta 6 foi muito significativa.\n",
    "\n",
    "2 - Na verdade eu cheguei muito próximo da resposta, tive uma boa intuição, pois acertei quase todos os recursos.\n",
    "\n",
    "3 - marital_status - acredito que esse recurso seja importante porque pessoas casadas ganham mais"
   ]
  },
  {
   "cell_type": "markdown",
   "metadata": {},
   "source": [
    "### Feature Selection\n",
    "How does a model perform if we only use a subset of all the available features in the data? With less features required to train, the expectation is that training and prediction time is much lower — at the cost of performance metrics. From the visualization above, we see that the top five most important features contribute more than half of the importance of **all** features present in the data. This hints that we can attempt to *reduce the feature space* and simplify the information required for the model to learn. The code cell below will use the same optimized model you found earlier, and train it on the same training set *with only the top five important features*. \n",
    "\n",
    "### Seleção de recursos\n",
    "Como um modelo funciona se usarmos apenas um subconjunto de todos os recursos disponíveis nos dados? Com menos recursos necessários para treinar, a expectativa é que o tempo de treinamento e previsão seja muito menor - ao custo das métricas de desempenho. A partir da visualização acima, vemos que os cinco principais recursos mais importantes contribuem com mais da metade da importância de **todos** os recursos presentes nos dados. Isso sugere que podemos tentar *reduzir o espaço de recursos* e simplificar as informações necessárias para o modelo aprender. A célula de código abaixo usará o mesmo modelo otimizado que você encontrou anteriormente e treiná-lo no mesmo conjunto de treinamento *com apenas os cinco principais recursos*."
   ]
  },
  {
   "cell_type": "code",
   "execution_count": 28,
   "metadata": {},
   "outputs": [
    {
     "name": "stderr",
     "output_type": "stream",
     "text": [
      "C:\\Users\\Italo\\Anaconda3\\envs\\ITALO\\lib\\site-packages\\sklearn\\svm\\base.py:196: FutureWarning: The default value of gamma will change from 'auto' to 'scale' in version 0.22 to account better for unscaled features. Set gamma explicitly to 'auto' or 'scale' to avoid this warning.\n",
      "  \"avoid this warning.\", FutureWarning)\n"
     ]
    },
    {
     "name": "stdout",
     "output_type": "stream",
     "text": [
      "Final Model trained on full data\n",
      "------\n",
      "Accuracy on testing data: 0.8278\n",
      "F-score on testing data: 0.6521\n",
      "\n",
      "Final Model trained on reduced data\n",
      "------\n",
      "Accuracy on testing data: 0.8159\n",
      "F-score on testing data: 0.6213\n"
     ]
    },
    {
     "data": {
      "text/plain": [
       "'\\n# Importar funcionalidade para clonar um modelo\\ndo clone de importação sklearn.base\\n\\n# Reduza o espaço do recurso\\nX_train_reduced = X_train [X_train.columns.values \\u200b\\u200b[(np.argsort (importâncias) [:: - 1]) [: 5]]]\\nX_test_reduced = X_test [X_test.columns.values \\u200b\\u200b[(np.argsort (importâncias) [:: - 1]) [: 5]]]\\n\\n# Treinar no modelo \"melhor\" encontrado na pesquisa de grade anterior\\nclf = (clone (best_clf)). ajuste (X_train_reduced, y_train)\\n\\n# Faça novas previsões\\nreduced_predictions = clf.predict (X_test_reduced)\\n\\n# Relatório de pontuações do modelo final usando ambas as versões de dados\\nprint (\"Modelo Final treinado em dados completos \\\\ n ------\")\\nprint (\"Precisão no teste de dados: {: .4f}\". format (accuracy_score (y_test, best_predictions)))\\nprint (\"F-score nos dados de teste: {: .4f}\". format (fbeta_score (y_test, best_predictions, beta = 0.5)))\\nprint (\"\\\\ nFinal Model treinado em dados reduzidos \\\\ n ------\")\\nprint (\"Precisão no teste de dados: {: .4f}\". format (accuracy_score (y_test, reduced_predictions)))\\nprint (\"F-score nos dados de teste: {: .4f}\". format (fbeta_score (y_test, reduced_predictions, beta = 0.5)))\\n'"
      ]
     },
     "execution_count": 28,
     "metadata": {},
     "output_type": "execute_result"
    }
   ],
   "source": [
    "# Import functionality for cloning a model\n",
    "from sklearn.base import clone\n",
    "\n",
    "# Reduce the feature space\n",
    "X_train_reduced = X_train[X_train.columns.values[(np.argsort(importances)[::-1])[:5]]]\n",
    "X_test_reduced = X_test[X_test.columns.values[(np.argsort(importances)[::-1])[:5]]]\n",
    "\n",
    "# Train on the \"best\" model found from grid search earlier\n",
    "clf = (clone(best_clf)).fit(X_train_reduced, y_train)\n",
    "\n",
    "# Make new predictions\n",
    "reduced_predictions = clf.predict(X_test_reduced)\n",
    "\n",
    "# Report scores from the final model using both versions of data\n",
    "print(\"Final Model trained on full data\\n------\")\n",
    "print(\"Accuracy on testing data: {:.4f}\".format(accuracy_score(y_test, best_predictions)))\n",
    "print(\"F-score on testing data: {:.4f}\".format(fbeta_score(y_test, best_predictions, beta = 0.5)))\n",
    "print(\"\\nFinal Model trained on reduced data\\n------\")\n",
    "print(\"Accuracy on testing data: {:.4f}\".format(accuracy_score(y_test, reduced_predictions)))\n",
    "print(\"F-score on testing data: {:.4f}\".format(fbeta_score(y_test, reduced_predictions, beta = 0.5)))\n",
    "\n",
    "\"\"\"\n",
    "# Importar funcionalidade para clonar um modelo\n",
    "do clone de importação sklearn.base\n",
    "\n",
    "# Reduza o espaço do recurso\n",
    "X_train_reduced = X_train [X_train.columns.values ​​[(np.argsort (importâncias) [:: - 1]) [: 5]]]\n",
    "X_test_reduced = X_test [X_test.columns.values ​​[(np.argsort (importâncias) [:: - 1]) [: 5]]]\n",
    "\n",
    "# Treinar no modelo \"melhor\" encontrado na pesquisa de grade anterior\n",
    "clf = (clone (best_clf)). ajuste (X_train_reduced, y_train)\n",
    "\n",
    "# Faça novas previsões\n",
    "reduced_predictions = clf.predict (X_test_reduced)\n",
    "\n",
    "# Relatório de pontuações do modelo final usando ambas as versões de dados\n",
    "print (\"Modelo Final treinado em dados completos \\ n ------\")\n",
    "print (\"Precisão no teste de dados: {: .4f}\". format (accuracy_score (y_test, best_predictions)))\n",
    "print (\"F-score nos dados de teste: {: .4f}\". format (fbeta_score (y_test, best_predictions, beta = 0.5)))\n",
    "print (\"\\ nFinal Model treinado em dados reduzidos \\ n ------\")\n",
    "print (\"Precisão no teste de dados: {: .4f}\". format (accuracy_score (y_test, reduced_predictions)))\n",
    "print (\"F-score nos dados de teste: {: .4f}\". format (fbeta_score (y_test, reduced_predictions, beta = 0.5)))\n",
    "\"\"\""
   ]
  },
  {
   "cell_type": "markdown",
   "metadata": {},
   "source": [
    "### Question 8 - Effects of Feature Selection\n",
    "\n",
    "* How does the final model's F-score and accuracy score on the reduced data using only five features compare to those same scores when all features are used?\n",
    "* If training time was a factor, would you consider using the reduced data as your training set?\n",
    "\n",
    "### Question 8 - Effects of Feature Selection\n",
    "\n",
    "* Como o escore F e o escore de precisão do modelo final nos dados reduzidos, usando apenas cinco recursos, se comparam aos mesmos escores quando todos os recursos são usados?\n",
    "* Se o tempo de treinamento fosse um fator, você consideraria usar os dados reduzidos como seu conjunto de treinamento?\n"
   ]
  },
  {
   "cell_type": "markdown",
   "metadata": {},
   "source": [
    "**Answer:**\n",
    "1 - Observando os dados nota-se que as métricas F-score e Acurácia tiveram um desempenho inferior, quando os recursos foram reduzidos, se antes de reduzir os recursos a Accuracy era de 0.8278 e F-score era de 0.6521, depois da redução de recursos Accuracy e F-score passaram a ser de 0.81.59, 0.62.13 respectivamente, acredito que isso aconteceu porque de alguma forma não foram selecionados os recursos adequados.\n",
    "\n",
    "2 - Se o tempo de treinamento fosse um fator, caso esse modelo fosse executado em um dispositivo com capacidade de processamento limitada, como por exemplo sistemas embarcados, eu consideraria usar recursos reduzidos pois o tempo de treinamento foi reduzido consideravelmente, enquanto a pracisão não sofreu uma diminuição significativa.\n"
   ]
  },
  {
   "cell_type": "markdown",
   "metadata": {},
   "source": [
    "> **Note**: Once you have completed all of the code implementations and successfully answered each question above, you may finalize your work by exporting the iPython Notebook as an HTML document. You can do this by using the menu above and navigating to  \n",
    "**File -> Download as -> HTML (.html)**. Include the finished document along with this notebook as your submission.\n",
    "\n",
    "> **Observação**: Depois de concluir todas as implementações de código e responder com êxito a cada pergunta acima, você poderá finalizar seu trabalho exportando o iPython Notebook como um documento HTML. Você pode fazer isso usando o menu acima e navegando para\n",
    "**Arquivo -> Download como -> HTML (.html)**. Inclua o documento final junto com este caderno como sua submissão.\n"
   ]
  }
 ],
 "metadata": {
  "kernelspec": {
   "display_name": "ITALO",
   "language": "python",
   "name": "italo"
  },
  "language_info": {
   "codemirror_mode": {
    "name": "ipython",
    "version": 3
   },
   "file_extension": ".py",
   "mimetype": "text/x-python",
   "name": "python",
   "nbconvert_exporter": "python",
   "pygments_lexer": "ipython3",
   "version": "3.7.3"
  }
 },
 "nbformat": 4,
 "nbformat_minor": 1
}
